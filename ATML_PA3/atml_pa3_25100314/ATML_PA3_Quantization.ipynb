{
  "metadata": {
    "kernelspec": {
      "name": "python3",
      "display_name": "Python 3"
    },
    "language_info": {
      "name": "python",
      "version": "3.10.14",
      "mimetype": "text/x-python",
      "codemirror_mode": {
        "name": "ipython",
        "version": 3
      },
      "pygments_lexer": "ipython3",
      "nbconvert_exporter": "python",
      "file_extension": ".py"
    },
    "colab": {
      "provenance": [],
      "gpuType": "T4",
      "machine_shape": "hm"
    },
    "accelerator": "GPU",
    "kaggle": {
      "accelerator": "nvidiaTeslaT4",
      "dataSources": [],
      "dockerImageVersionId": 30787,
      "isInternetEnabled": true,
      "language": "python",
      "sourceType": "notebook",
      "isGpuEnabled": true
    }
  },
  "nbformat_minor": 0,
  "nbformat": 4,
  "cells": [
    {
      "cell_type": "markdown",
      "source": [
        "# Installing and importing necessary libraries"
      ],
      "metadata": {
        "id": "d5sKdn23G6kW"
      }
    },
    {
      "cell_type": "code",
      "source": [
        "!pip install torchao"
      ],
      "metadata": {
        "colab": {
          "base_uri": "https://localhost:8080/"
        },
        "id": "L2_8mEUPG6to",
        "outputId": "55205502-0d21-47f4-ae85-2d6276a3061e",
        "trusted": true,
        "execution": {
          "iopub.status.busy": "2024-11-05T13:21:12.610584Z",
          "iopub.execute_input": "2024-11-05T13:21:12.611579Z",
          "iopub.status.idle": "2024-11-05T13:21:24.092121Z",
          "shell.execute_reply.started": "2024-11-05T13:21:12.611528Z",
          "shell.execute_reply": "2024-11-05T13:21:24.090947Z"
        }
      },
      "outputs": [
        {
          "output_type": "stream",
          "name": "stdout",
          "text": [
            "Collecting torchao\n",
            "  Downloading torchao-0.6.1-cp310-cp310-manylinux_2_17_x86_64.manylinux2014_x86_64.whl.metadata (13 kB)\n",
            "Downloading torchao-0.6.1-cp310-cp310-manylinux_2_17_x86_64.manylinux2014_x86_64.whl (2.2 MB)\n",
            "\u001b[?25l   \u001b[90m━━━━━━━━━━━━━━━━━━━━━━━━━━━━━━━━━━━━━━━━\u001b[0m \u001b[32m0.0/2.2 MB\u001b[0m \u001b[31m?\u001b[0m eta \u001b[36m-:--:--\u001b[0m\r\u001b[2K   \u001b[90m━━━━━━━━━━━━━━━━━━━━━━━━━━━━━━━━━━━━━━━━\u001b[0m \u001b[32m2.2/2.2 MB\u001b[0m \u001b[31m71.2 MB/s\u001b[0m eta \u001b[36m0:00:00\u001b[0m\n",
            "\u001b[?25hInstalling collected packages: torchao\n",
            "Successfully installed torchao-0.6.1\n"
          ]
        }
      ],
      "execution_count": 1
    },
    {
      "cell_type": "code",
      "source": [
        "import copy\n",
        "import torch\n",
        "import torch.nn as nn\n",
        "import torchvision\n",
        "import torchao\n",
        "import torch.optim as optim\n",
        "import torch.quantization as tq\n",
        "import torchvision.transforms as transforms\n",
        "from torchao.quantization import quantize_, int8_dynamic_activation_int8_weight, int4_weight_only, int8_weight_only"
      ],
      "metadata": {
        "id": "dBj6CSTkG7I-",
        "trusted": true,
        "execution": {
          "iopub.status.busy": "2024-11-05T13:21:24.094538Z",
          "iopub.execute_input": "2024-11-05T13:21:24.094959Z",
          "iopub.status.idle": "2024-11-05T13:21:24.101128Z",
          "shell.execute_reply.started": "2024-11-05T13:21:24.094913Z",
          "shell.execute_reply": "2024-11-05T13:21:24.100183Z"
        }
      },
      "outputs": [],
      "execution_count": 33
    },
    {
      "cell_type": "markdown",
      "source": [
        "# Preparing the dataset, model, optimizer for PTQ"
      ],
      "metadata": {
        "id": "jiJzBC83sDM_"
      }
    },
    {
      "cell_type": "code",
      "source": [
        "transform_train = transforms.Compose([\n",
        "    transforms.RandomCrop(32, padding=4),\n",
        "    transforms.RandomHorizontalFlip(),\n",
        "    transforms.ToTensor(),\n",
        "    transforms.Normalize((0.5071, 0.4867, 0.4408),\n",
        "                         (0.2675, 0.2565, 0.2761))\n",
        "])\n",
        "\n",
        "transform_test = transforms.Compose([\n",
        "    transforms.ToTensor(),\n",
        "    transforms.Normalize((0.5071, 0.4867, 0.4408),\n",
        "                         (0.2675, 0.2565, 0.2761))\n",
        "])\n",
        "\n",
        "# Load CIFAR-100 datasets\n",
        "trainset = torchvision.datasets.CIFAR100(root='./data', train=True,\n",
        "                                         download=True, transform=transform_train)\n",
        "\n",
        "trainloader = torch.utils.data.DataLoader(trainset, batch_size=128,\n",
        "                                          shuffle=True, num_workers=2)\n",
        "\n",
        "testset = torchvision.datasets.CIFAR100(root='./data', train=False,\n",
        "                                        download=True, transform=transform_test)\n",
        "\n",
        "testloader = torch.utils.data.DataLoader(testset, batch_size=100,\n",
        "                                         shuffle=False, num_workers=2)\n",
        "\n",
        "classes = trainset.classes\n",
        "\n",
        "device = 'cuda' if torch.cuda.is_available() else 'cpu'\n",
        "device = torch.device(\"cuda\" if torch.cuda.is_available() else \"cpu\")\n",
        "\n",
        "# Loading pre-trained VGG-11 model\n",
        "model = torchvision.models.vgg11(pretrained=True)\n",
        "\n",
        "# Modify the classifier to output 100 classes for CIFAR-100\n",
        "model.classifier[6] = nn.Linear(4096, 100)\n",
        "\n",
        "model = model.to(device)\n",
        "\n",
        "criterion = nn.CrossEntropyLoss()\n",
        "\n",
        "optimizer = optim.SGD(model.parameters(), lr=0.01, momentum=0.9, weight_decay=5e-4)"
      ],
      "metadata": {
        "colab": {
          "base_uri": "https://localhost:8080/"
        },
        "id": "xk9DOG7RG7cl",
        "outputId": "f701bd07-407e-496b-ccff-794b50d7d826",
        "trusted": true,
        "execution": {
          "iopub.status.busy": "2024-11-05T13:17:35.132751Z",
          "iopub.execute_input": "2024-11-05T13:17:35.133005Z",
          "iopub.status.idle": "2024-11-05T13:17:36.900693Z",
          "shell.execute_reply.started": "2024-11-05T13:17:35.132977Z",
          "shell.execute_reply": "2024-11-05T13:17:36.899496Z"
        }
      },
      "outputs": [
        {
          "output_type": "stream",
          "name": "stdout",
          "text": [
            "Files already downloaded and verified\n",
            "Files already downloaded and verified\n"
          ]
        },
        {
          "output_type": "stream",
          "name": "stderr",
          "text": [
            "/usr/local/lib/python3.10/dist-packages/torchvision/models/_utils.py:208: UserWarning: The parameter 'pretrained' is deprecated since 0.13 and may be removed in the future, please use 'weights' instead.\n",
            "  warnings.warn(\n",
            "/usr/local/lib/python3.10/dist-packages/torchvision/models/_utils.py:223: UserWarning: Arguments other than a weight enum or `None` for 'weights' are deprecated since 0.13 and may be removed in the future. The current behavior is equivalent to passing `weights=VGG11_Weights.IMAGENET1K_V1`. You can also use `weights=VGG11_Weights.DEFAULT` to get the most up-to-date weights.\n",
            "  warnings.warn(msg)\n"
          ]
        }
      ],
      "execution_count": 41
    },
    {
      "cell_type": "markdown",
      "source": [
        "# Finetuning and evaluating the VGG Model on CIFAR-100 Dataset for baseline accuracy"
      ],
      "metadata": {
        "id": "qcCKBJXmG8Ej"
      }
    },
    {
      "cell_type": "code",
      "source": [
        "num_epochs = 5\n",
        "\n",
        "for epoch in range(num_epochs):\n",
        "    model.train()\n",
        "    running_loss = 0.0\n",
        "    total = 0\n",
        "    correct = 0\n",
        "    for batch_idx, (inputs, targets) in enumerate(trainloader):\n",
        "        inputs, targets = inputs.to(device), targets.to(device)\n",
        "        optimizer.zero_grad()\n",
        "        outputs = model(inputs)\n",
        "        loss = criterion(outputs, targets)\n",
        "        loss.backward()\n",
        "        optimizer.step()\n",
        "        running_loss += loss.item()\n",
        "        _, predicted = outputs.max(1)\n",
        "        total += targets.size(0)\n",
        "        correct += predicted.eq(targets).sum().item()\n",
        "\n",
        "        if batch_idx % 100 == 0:\n",
        "            print(f'Epoch: {epoch+1}, Batch: {batch_idx}, Loss: {running_loss / (batch_idx + 1):.3f}, '\n",
        "                  f'Accuracy: {100. * correct / total:.3f}%')"
      ],
      "metadata": {
        "colab": {
          "base_uri": "https://localhost:8080/"
        },
        "id": "L5W7IU9VG8MT",
        "outputId": "fd8144c1-d50a-4fc0-a724-14a36150936d",
        "trusted": true,
        "execution": {
          "iopub.status.busy": "2024-11-05T13:17:38.538488Z",
          "iopub.execute_input": "2024-11-05T13:17:38.538835Z",
          "iopub.status.idle": "2024-11-05T13:19:57.624101Z",
          "shell.execute_reply.started": "2024-11-05T13:17:38.538793Z",
          "shell.execute_reply": "2024-11-05T13:19:57.623000Z"
        }
      },
      "outputs": [
        {
          "output_type": "stream",
          "name": "stdout",
          "text": [
            "Epoch: 1, Batch: 0, Loss: 5.274, Accuracy: 0.000%\n",
            "Epoch: 1, Batch: 100, Loss: 3.670, Accuracy: 14.132%\n",
            "Epoch: 1, Batch: 200, Loss: 3.228, Accuracy: 21.436%\n",
            "Epoch: 1, Batch: 300, Loss: 2.971, Accuracy: 26.238%\n",
            "Epoch: 2, Batch: 0, Loss: 2.286, Accuracy: 36.719%\n",
            "Epoch: 2, Batch: 100, Loss: 2.113, Accuracy: 43.611%\n",
            "Epoch: 2, Batch: 200, Loss: 2.093, Accuracy: 43.867%\n",
            "Epoch: 2, Batch: 300, Loss: 2.058, Accuracy: 44.684%\n",
            "Epoch: 3, Batch: 0, Loss: 1.896, Accuracy: 53.125%\n",
            "Epoch: 3, Batch: 100, Loss: 1.779, Accuracy: 51.230%\n",
            "Epoch: 3, Batch: 200, Loss: 1.781, Accuracy: 51.325%\n",
            "Epoch: 3, Batch: 300, Loss: 1.784, Accuracy: 51.326%\n",
            "Epoch: 4, Batch: 0, Loss: 1.490, Accuracy: 53.906%\n",
            "Epoch: 4, Batch: 100, Loss: 1.627, Accuracy: 55.012%\n",
            "Epoch: 4, Batch: 200, Loss: 1.611, Accuracy: 55.574%\n",
            "Epoch: 4, Batch: 300, Loss: 1.615, Accuracy: 55.269%\n",
            "Epoch: 5, Batch: 0, Loss: 1.417, Accuracy: 60.156%\n",
            "Epoch: 5, Batch: 100, Loss: 1.457, Accuracy: 59.112%\n",
            "Epoch: 5, Batch: 200, Loss: 1.458, Accuracy: 58.959%\n",
            "Epoch: 5, Batch: 300, Loss: 1.462, Accuracy: 58.921%\n"
          ]
        }
      ],
      "execution_count": 42
    },
    {
      "cell_type": "code",
      "source": [
        "def test(model, testloader):\n",
        "\n",
        "    model.eval()\n",
        "    correct = 0\n",
        "    total = 0\n",
        "\n",
        "    with torch.no_grad():\n",
        "        for batch_idx, (inputs, targets) in enumerate(testloader):\n",
        "            inputs, targets = inputs.to(device), targets.to(device)\n",
        "            outputs = model(inputs)\n",
        "            _, predicted = outputs.max(1)\n",
        "            total += targets.size(0)\n",
        "            correct += predicted.eq(targets).sum().item()\n",
        "\n",
        "    acc = 100. * correct / total\n",
        "    print(f'Test Accuracy: {acc:.3f}%')\n",
        "\n",
        "    return acc\n",
        "\n",
        "original_acc = test(model, testloader)"
      ],
      "metadata": {
        "colab": {
          "base_uri": "https://localhost:8080/"
        },
        "id": "mbVo2B55HW7i",
        "outputId": "0ea48786-ae81-45dc-dc6e-96892677df33",
        "trusted": true,
        "execution": {
          "iopub.status.busy": "2024-11-04T11:20:38.311402Z",
          "iopub.execute_input": "2024-11-04T11:20:38.311805Z",
          "iopub.status.idle": "2024-11-04T11:20:40.505949Z",
          "shell.execute_reply.started": "2024-11-04T11:20:38.311725Z",
          "shell.execute_reply": "2024-11-04T11:20:40.504847Z"
        }
      },
      "outputs": [
        {
          "output_type": "stream",
          "name": "stdout",
          "text": [
            "Test Accuracy: 57.930%\n"
          ]
        }
      ],
      "execution_count": 43
    },
    {
      "cell_type": "markdown",
      "source": [
        "# Evaluating models for PTQ"
      ],
      "metadata": {
        "id": "s3B3mYepsDNC"
      }
    },
    {
      "cell_type": "code",
      "source": [
        "model_fp16 = copy.deepcopy(model).to(torch.float16)\n",
        "\n",
        "model_bf16 = copy.deepcopy(model).to(torch.bfloat16)\n",
        "\n",
        "model_int8 = copy.deepcopy(model)\n",
        "# quantize_(model_int8, int8_dynamic_activation_int8_weight())\n",
        "quantize_(model_int8, int8_weight_only())\n",
        "model_int8 = model_int8.to(device)\n",
        "\n",
        "\n",
        "def quantize_to_int4(tensor):\n",
        "    # Determine the scaling factor based on the range of int4 [-8, 7]\n",
        "    scale = 7.0 / torch.max(torch.abs(tensor))\n",
        "    # Scale and clamp the tensor to the int4 range, then round to integers\n",
        "    tensor_quantized = torch.round(tensor * scale).clamp(-8, 7)\n",
        "    # Rescale back to floating point for the simulated quantization effect\n",
        "    tensor_dequantized = tensor_quantized / scale\n",
        "    return tensor_dequantized\n",
        "\n",
        "def apply_int4_ptq(model):\n",
        "    for name, module in model.named_modules():\n",
        "        if isinstance(module, nn.Linear) or isinstance(module, nn.Conv2d):\n",
        "            module.weight.data = quantize_to_int4(module.weight.data)   # Quantize weights only to int4 (for fair comparison)\n",
        "    return model\n",
        "\n",
        "model_int4 = apply_int4_ptq(model).to(device)"
      ],
      "metadata": {
        "id": "uWUz5retG8ib",
        "trusted": true,
        "execution": {
          "iopub.status.busy": "2024-11-04T11:20:40.507892Z",
          "iopub.execute_input": "2024-11-04T11:20:40.508924Z",
          "iopub.status.idle": "2024-11-04T11:20:40.551675Z",
          "shell.execute_reply.started": "2024-11-04T11:20:40.508858Z",
          "shell.execute_reply": "2024-11-04T11:20:40.550945Z"
        }
      },
      "outputs": [],
      "execution_count": 44
    },
    {
      "cell_type": "code",
      "source": [
        "def test_ptq(model, testloader,bitwidth):\n",
        "    model.eval()\n",
        "    correct, total = 0, 0\n",
        "    with torch.no_grad():\n",
        "        for inputs, targets in testloader:\n",
        "\n",
        "            if bitwidth in ['INT8', 'INT4']:\n",
        "                inputs = inputs.to(device)\n",
        "            elif bitwidth == 'FP16':\n",
        "                inputs = inputs.to(device).half()\n",
        "            elif bitwidth == 'BF16':\n",
        "                inputs = inputs.to(device).to(torch.bfloat16)\n",
        "\n",
        "            targets = targets.to(device)\n",
        "            outputs = model(inputs)\n",
        "            _, predicted = outputs.max(1)\n",
        "            total += targets.size(0)\n",
        "            correct += predicted.eq(targets).sum().item()\n",
        "    acc = 100. * correct / total\n",
        "    print(f'{bitwidth} PTQ Test Accuracy: {acc:.3f}%')\n",
        "    return acc"
      ],
      "metadata": {
        "id": "o_1XXyOKG82C",
        "trusted": true,
        "execution": {
          "iopub.status.busy": "2024-11-04T11:20:40.552858Z",
          "iopub.execute_input": "2024-11-04T11:20:40.553192Z",
          "iopub.status.idle": "2024-11-04T11:20:40.571470Z",
          "shell.execute_reply.started": "2024-11-04T11:20:40.553159Z",
          "shell.execute_reply": "2024-11-04T11:20:40.570404Z"
        }
      },
      "outputs": [],
      "execution_count": 45
    },
    {
      "cell_type": "code",
      "source": [
        "fp16_acc_1 = test_ptq(model_fp16, testloader, 'FP16')\n",
        "bf16_acc_1 = test_ptq(model_bf16, testloader, 'BF16')\n",
        "int8_acc_1 = test_ptq(model_int8, testloader, 'INT8')\n",
        "int4_acc_1 = test_ptq(model_int4, testloader, 'INT4')"
      ],
      "metadata": {
        "colab": {
          "base_uri": "https://localhost:8080/"
        },
        "id": "D7dA30ljTlrL",
        "outputId": "b5361439-407d-4005-8763-f53d6dd29004"
      },
      "execution_count": 46,
      "outputs": [
        {
          "output_type": "stream",
          "name": "stdout",
          "text": [
            "FP16 PTQ Test Accuracy: 57.950%\n",
            "BF16 PTQ Test Accuracy: 57.970%\n",
            "INT8 PTQ Test Accuracy: 57.930%\n",
            "INT4 PTQ Test Accuracy: 34.890%\n"
          ]
        }
      ]
    },
    {
      "cell_type": "markdown",
      "source": [
        "# Evaluating models for QAT"
      ],
      "metadata": {
        "id": "p9y9d-OGsDNF"
      }
    },
    {
      "cell_type": "markdown",
      "source": [
        "## **bf16 and fp16**"
      ],
      "metadata": {
        "id": "h1Fqs_m2ybyd"
      }
    },
    {
      "cell_type": "code",
      "source": [
        "# Set up optimizer and device and other config\n",
        "num_epochs_qat = 5  # Small number of epochs for demonstration, saving compute\n",
        "learning_rate = 0.001\n",
        "\n",
        "device = torch.device(\"cuda\" if torch.cuda.is_available() else \"cpu\")\n",
        "\n",
        "def train_model_qat(model, optimizer, trainloader, num_epochs, input_dtype=None):\n",
        "    for epoch in range(num_epochs):\n",
        "        model.train()\n",
        "        running_loss, total, correct = 0.0, 0, 0\n",
        "        for batch_idx, (inputs, targets) in enumerate(trainloader):\n",
        "            inputs, targets = inputs.to(device), targets.to(device)\n",
        "            if input_dtype:\n",
        "                inputs = inputs.to(input_dtype)\n",
        "            optimizer.zero_grad()\n",
        "            outputs = model(inputs)\n",
        "            loss = criterion(outputs, targets)\n",
        "            loss.backward()\n",
        "            optimizer.step()\n",
        "\n",
        "            running_loss += loss.item()\n",
        "            _, predicted = outputs.max(1)\n",
        "            total += targets.size(0)\n",
        "            correct += predicted.eq(targets).sum().item()\n",
        "\n",
        "\n",
        "            if not input_dtype and batch_idx % 100 == 0:\n",
        "                print(\n",
        "                    f\"Epoch [{epoch+1}/{num_epochs}], Batch [{batch_idx}], \"\n",
        "                    f\"Loss: {running_loss / (batch_idx + 1):.4f}, \"\n",
        "                    f\"Accuracy: {100. * correct / total:.2f}%\"\n",
        "                )\n",
        "        if input_dtype:\n",
        "          print(f\"Epoch [{epoch+1}/{num_epochs}] - Loss: {running_loss:.4f}, Accuracy: {100 * correct / total:.2f}%\")\n",
        "\n",
        "\n",
        "def test_model_qat(model, testloader, input_dtype=None,quantization_type='float'):\n",
        "    model.eval()\n",
        "    total, correct = 0, 0\n",
        "    with torch.no_grad():\n",
        "        for inputs, targets in testloader:\n",
        "            if quantization_type == 'int':\n",
        "              inputs, targets = inputs.to(\"cpu\"), targets.to(\"cpu\")\n",
        "            else:\n",
        "              inputs, targets = inputs.to(device), targets.to(device)\n",
        "              if input_dtype:\n",
        "                  inputs = inputs.to(input_dtype)\n",
        "\n",
        "            outputs = model(inputs)\n",
        "            _, predicted = outputs.max(1)\n",
        "            total += targets.size(0)\n",
        "            correct += predicted.eq(targets).sum().item()\n",
        "    accuracy = 100. * correct / total\n",
        "    print(f\"Test Accuracy: {accuracy:.2f}%\")\n",
        "    return accuracy"
      ],
      "metadata": {
        "trusted": true,
        "execution": {
          "iopub.status.busy": "2024-11-05T12:31:36.464039Z",
          "iopub.execute_input": "2024-11-05T12:31:36.464431Z",
          "iopub.status.idle": "2024-11-05T12:31:36.477260Z",
          "shell.execute_reply.started": "2024-11-05T12:31:36.464394Z",
          "shell.execute_reply": "2024-11-05T12:31:36.476394Z"
        },
        "id": "HnFGAd7nsDNF"
      },
      "outputs": [],
      "execution_count": 47
    },
    {
      "cell_type": "code",
      "source": [
        "#################### QAT for fp16 ####################\n",
        "model_fp16_qat = copy.deepcopy(model).to(device).to(torch.float16)\n",
        "\n",
        "optimizer_fp16 = optim.SGD(model_fp16_qat.parameters(), lr=learning_rate, momentum=0.9, weight_decay=5e-4)\n",
        "\n",
        "# Specify input_dtype=torch.float16 to ensure inputs are in fp16\n",
        "train_model_qat(model_fp16_qat, optimizer_fp16, trainloader, num_epochs_qat, input_dtype=torch.float16)\n",
        "\n",
        "# Test the fp16 model with input_dtype=torch.float16\n",
        "fp16_qat_acc = test_model_qat(model_fp16_qat, testloader, input_dtype=torch.float16)\n",
        "print(f'FP16 QAT Test Accuracy: {fp16_qat_acc:.3f}%')"
      ],
      "metadata": {
        "trusted": true,
        "execution": {
          "iopub.status.busy": "2024-11-05T12:31:52.720527Z",
          "iopub.execute_input": "2024-11-05T12:31:52.721453Z",
          "iopub.status.idle": "2024-11-05T12:34:45.240446Z",
          "shell.execute_reply.started": "2024-11-05T12:31:52.721413Z",
          "shell.execute_reply": "2024-11-05T12:34:45.239217Z"
        },
        "colab": {
          "base_uri": "https://localhost:8080/"
        },
        "id": "dDQW0rMlsDNG",
        "outputId": "87bdb75a-c89f-4703-f16f-42086e623808"
      },
      "outputs": [
        {
          "output_type": "stream",
          "name": "stdout",
          "text": [
            "Epoch [1/5] - Loss: 552.9346, Accuracy: 60.04%\n",
            "Epoch [2/5] - Loss: 473.3848, Accuracy: 64.94%\n",
            "Epoch [3/5] - Loss: 447.7832, Accuracy: 66.69%\n",
            "Epoch [4/5] - Loss: 429.3540, Accuracy: 67.87%\n",
            "Epoch [5/5] - Loss: 411.8203, Accuracy: 68.96%\n",
            "Test Accuracy: 62.720%\n",
            "FP16 QAT Test Accuracy: 62.720%\n"
          ]
        }
      ],
      "execution_count": 48
    },
    {
      "cell_type": "code",
      "source": [
        "#################### QAT for bf16 ####################\n",
        "model_bf16_qat = copy.deepcopy(model).to(device).to(torch.bfloat16)\n",
        "\n",
        "optimizer_bf16 = optim.SGD(model_bf16_qat.parameters(), lr=learning_rate, momentum=0.9, weight_decay=5e-4)\n",
        "\n",
        "# Specify input_dtype=torch.bfloat16 to ensure inputs are in bf16\n",
        "train_model_qat(model_bf16_qat, optimizer_bf16, trainloader, num_epochs_qat, input_dtype=torch.bfloat16)\n",
        "\n",
        "# Test the bf16 model with input_dtype=torch.bfloat16\n",
        "bf16_qat_acc = test_model_qat(model_bf16_qat, testloader, input_dtype=torch.bfloat16)\n",
        "print(f'BF16 QAT Test Accuracy: {bf16_qat_acc:.3f}%')\n",
        "\n",
        "#training time for bf16 is way more than training time for fp16"
      ],
      "metadata": {
        "trusted": true,
        "execution": {
          "iopub.status.busy": "2024-11-05T12:34:45.242391Z",
          "iopub.execute_input": "2024-11-05T12:34:45.242747Z",
          "iopub.status.idle": "2024-11-05T12:52:26.352298Z",
          "shell.execute_reply.started": "2024-11-05T12:34:45.242710Z",
          "shell.execute_reply": "2024-11-05T12:52:26.351104Z"
        },
        "colab": {
          "base_uri": "https://localhost:8080/"
        },
        "id": "PVMJJSUWsDNG",
        "outputId": "70b8e63a-47ec-408a-b164-1ad45dda0af1"
      },
      "outputs": [
        {
          "output_type": "stream",
          "name": "stdout",
          "text": [
            "Epoch [1/5] - Loss: 567.5469, Accuracy: 59.13%\n",
            "Epoch [2/5] - Loss: 482.9766, Accuracy: 64.35%\n",
            "Epoch [3/5] - Loss: 460.2383, Accuracy: 65.95%\n",
            "Epoch [4/5] - Loss: 435.6875, Accuracy: 67.26%\n",
            "Epoch [5/5] - Loss: 423.6758, Accuracy: 68.46%\n",
            "Test Accuracy: 62.260%\n",
            "BF16 QAT Test Accuracy: 62.260%\n"
          ]
        }
      ],
      "execution_count": 49
    },
    {
      "cell_type": "markdown",
      "source": [
        "## **int4 and int8**"
      ],
      "metadata": {
        "id": "soz6LPaEylkd"
      }
    },
    {
      "cell_type": "code",
      "source": [
        "# Data transformations and dataset loading\n",
        "transform_train = transforms.Compose([\n",
        "    transforms.RandomCrop(32, padding=4),\n",
        "    transforms.RandomHorizontalFlip(),\n",
        "    transforms.ToTensor(),\n",
        "    transforms.Normalize(\n",
        "        (0.5071, 0.4867, 0.4408),\n",
        "        (0.2675, 0.2565, 0.2761)\n",
        "    )\n",
        "])\n",
        "\n",
        "transform_test = transforms.Compose([\n",
        "    transforms.ToTensor(),\n",
        "    transforms.Normalize(\n",
        "        (0.5071, 0.4867, 0.4408),\n",
        "        (0.2675, 0.2565, 0.2761)\n",
        "    )\n",
        "])\n",
        "\n",
        "trainset = torchvision.datasets.CIFAR100(\n",
        "    root='./data',\n",
        "    train=True,\n",
        "    download=True,\n",
        "    transform=transform_train\n",
        ")\n",
        "testset = torchvision.datasets.CIFAR100(\n",
        "    root='./data',\n",
        "    train=False,\n",
        "    download=True,\n",
        "    transform=transform_test\n",
        ")\n",
        "\n",
        "num_epochs = num_epochs_qat"
      ],
      "metadata": {
        "colab": {
          "base_uri": "https://localhost:8080/"
        },
        "id": "K6A_bAmkwTGm",
        "outputId": "4b533cdd-5fce-4f6d-f516-ecbab5b0dc70"
      },
      "execution_count": 51,
      "outputs": [
        {
          "output_type": "stream",
          "name": "stdout",
          "text": [
            "Files already downloaded and verified\n",
            "Files already downloaded and verified\n"
          ]
        }
      ]
    },
    {
      "cell_type": "code",
      "source": [
        "# Class to wrap the fp32 model to include QuantStub and DeQuantStub for in4 and int8 QAT\n",
        "class QuantizedVGG11(nn.Module):\n",
        "    def __init__(self, model_fp32):\n",
        "        super(QuantizedVGG11, self).__init__()\n",
        "        self.quant = tq.QuantStub()\n",
        "        self.model = model_fp32\n",
        "        self.dequant = tq.DeQuantStub()\n",
        "\n",
        "    def forward(self, x):\n",
        "        x = self.quant(x)\n",
        "        x = self.model(x)\n",
        "        x = self.dequant(x)\n",
        "        return x"
      ],
      "metadata": {
        "id": "Z-M4iyAwxPsA"
      },
      "execution_count": 52,
      "outputs": []
    },
    {
      "cell_type": "code",
      "source": [
        "# Set up device and backend for int8 quantization\n",
        "device = torch.device(\"cuda\" if torch.cuda.is_available() else \"cpu\")\n",
        "torch.backends.quantized.engine = \"fbgemm\"\n",
        "\n",
        "# Load and modify VGG-11 model for CIFAR-100\n",
        "model_fp32 = torchvision.models.vgg11(pretrained=True)\n",
        "model_fp32.classifier[6] = nn.Linear(4096, 100)\n",
        "\n",
        "trainloader = torch.utils.data.DataLoader(\n",
        "    trainset,\n",
        "    batch_size=128,\n",
        "    shuffle=True,\n",
        "    num_workers=2\n",
        ")\n",
        "testloader = torch.utils.data.DataLoader(\n",
        "    testset,\n",
        "    batch_size=100,\n",
        "    shuffle=False,\n",
        "    num_workers=2\n",
        ")\n",
        "\n",
        "model = QuantizedVGG11(model_fp32).to(device)\n",
        "\n",
        "# Custom QAT configuration with per_tensor_affine for compatibility with fbgemm\n",
        "int8_qconfig = tq.QConfig(\n",
        "    activation=tq.MinMaxObserver.with_args(\n",
        "        quant_min=0,\n",
        "        quant_max=255,\n",
        "        dtype=torch.quint8,\n",
        "        qscheme=torch.per_tensor_affine\n",
        "    ),\n",
        "    weight=tq.MinMaxObserver.with_args(\n",
        "        quant_min=-128,\n",
        "        quant_max=127,\n",
        "        dtype=torch.qint8,\n",
        "        qscheme=torch.per_tensor_affine\n",
        "    )\n",
        ")\n",
        "\n",
        "# Apply the QAT configuration\n",
        "model.qconfig = int8_qconfig\n",
        "tq.prepare_qat(model, inplace=True)\n",
        "\n",
        "# Training setup for QAT\n",
        "learning_rate = 0.001\n",
        "criterion = nn.CrossEntropyLoss()\n",
        "optimizer = optim.SGD(\n",
        "    model.parameters(),\n",
        "    lr=learning_rate,\n",
        "    momentum=0.9,\n",
        "    weight_decay=5e-4\n",
        ")\n",
        "\n",
        "print(\"Starting QAT training for int8 model...\")\n",
        "train_model_qat(model, optimizer, trainloader, num_epochs)\n",
        "\n",
        "# Move the model to CPU before conversion\n",
        "model.to(\"cpu\")\n",
        "model.eval()\n",
        "\n",
        "# Convert the model to a quantized version for int8 inference\n",
        "quantized_model = tq.convert(model, inplace=False)\n",
        "\n",
        "print(\"Testing int8 quantized model...\")\n",
        "int8_qat_accuracy = test_model_qat(quantized_model, testloader,quantization_type='int')"
      ],
      "metadata": {
        "colab": {
          "base_uri": "https://localhost:8080/"
        },
        "id": "ZUuIWsm6ivv5",
        "outputId": "b461cc35-f419-4ad6-ce50-17dfff53b81d"
      },
      "execution_count": 54,
      "outputs": [
        {
          "output_type": "stream",
          "name": "stdout",
          "text": [
            "Starting QAT training for int8 model...\n",
            "Epoch [1/5], Batch [0], Loss: 5.1389, Accuracy: 1.56%\n",
            "Epoch [1/5], Batch [100], Loss: 4.2188, Accuracy: 7.86%\n",
            "Epoch [1/5], Batch [200], Loss: 3.6796, Accuracy: 15.00%\n",
            "Epoch [1/5], Batch [300], Loss: 3.3627, Accuracy: 19.74%\n",
            "Epoch [2/5], Batch [0], Loss: 2.3641, Accuracy: 30.47%\n",
            "Epoch [2/5], Batch [100], Loss: 2.2952, Accuracy: 38.30%\n",
            "Epoch [2/5], Batch [200], Loss: 2.2729, Accuracy: 38.98%\n",
            "Epoch [2/5], Batch [300], Loss: 2.2326, Accuracy: 39.94%\n",
            "Epoch [3/5], Batch [0], Loss: 2.2355, Accuracy: 41.41%\n",
            "Epoch [3/5], Batch [100], Loss: 1.9591, Accuracy: 46.18%\n",
            "Epoch [3/5], Batch [200], Loss: 1.9490, Accuracy: 46.58%\n",
            "Epoch [3/5], Batch [300], Loss: 1.9419, Accuracy: 46.72%\n",
            "Epoch [4/5], Batch [0], Loss: 1.9125, Accuracy: 45.31%\n",
            "Epoch [4/5], Batch [100], Loss: 1.7729, Accuracy: 49.61%\n",
            "Epoch [4/5], Batch [200], Loss: 1.7722, Accuracy: 50.03%\n",
            "Epoch [4/5], Batch [300], Loss: 1.7708, Accuracy: 50.20%\n",
            "Epoch [5/5], Batch [0], Loss: 1.4718, Accuracy: 56.25%\n",
            "Epoch [5/5], Batch [100], Loss: 1.6620, Accuracy: 53.00%\n",
            "Epoch [5/5], Batch [200], Loss: 1.6468, Accuracy: 53.50%\n",
            "Epoch [5/5], Batch [300], Loss: 1.6493, Accuracy: 53.29%\n",
            "Testing int8 quantized model...\n",
            "Test Accuracy: 36.64%\n"
          ]
        }
      ]
    },
    {
      "cell_type": "code",
      "source": [
        "# Set up device\n",
        "device = torch.device(\"cpu\")\n",
        "\n",
        "trainloader = torch.utils.data.DataLoader(\n",
        "    trainset,\n",
        "    batch_size=128,\n",
        "    shuffle=True,\n",
        "    num_workers=2\n",
        ")\n",
        "\n",
        "testloader = torch.utils.data.DataLoader(\n",
        "    testset,\n",
        "    batch_size=100,\n",
        "    shuffle=False,\n",
        "    num_workers=2\n",
        ")\n",
        "\n",
        "# Load and modify VGG-11 model for CIFAR-100\n",
        "model_fp32 = torchvision.models.vgg11(pretrained=True)\n",
        "model_fp32.classifier[6] = nn.Linear(4096, 100)\n",
        "\n",
        "\n",
        "model = QuantizedVGG11(model_fp32).to(device)  # Initialize on CPU\n",
        "\n",
        "# Define custom QConfig for int4 using built-in observers\n",
        "int4_qconfig = tq.QConfig(\n",
        "    activation=tq.FakeQuantize.with_args(\n",
        "        observer=tq.MinMaxObserver,\n",
        "        quant_min=0,\n",
        "        quant_max=15,  # For 4-bit unsigned int\n",
        "        dtype=torch.quint8,\n",
        "        qscheme=torch.per_tensor_affine\n",
        "    ),\n",
        "    weight=tq.FakeQuantize.with_args(\n",
        "        observer=tq.PerChannelMinMaxObserver,\n",
        "        quant_min=-8,\n",
        "        quant_max=7,  # For 4-bit signed int\n",
        "        dtype=torch.qint8,\n",
        "        qscheme=torch.per_channel_symmetric\n",
        "    )\n",
        ")\n",
        "\n",
        "# Apply the custom int4 qconfig\n",
        "model.qconfig = int4_qconfig\n",
        "\n",
        "# Prepare the model for QAT\n",
        "tq.prepare_qat(model, inplace=True)\n",
        "\n",
        "# Training setup\n",
        "learning_rate = 0.001\n",
        "criterion = nn.CrossEntropyLoss()\n",
        "optimizer = optim.SGD(\n",
        "    model.parameters(),\n",
        "    lr=learning_rate,\n",
        "    momentum=0.9,\n",
        "    weight_decay=5e-4\n",
        ")\n",
        "\n",
        "print(\"Starting QAT training for int4 model...\")\n",
        "train_model_qat(model, optimizer, trainloader, num_epochs)\n",
        "\n",
        "# Ensure model is on CPU for evaluation\n",
        "model.eval()\n",
        "\n",
        "print(\"Testing int4 quantized model...\")\n",
        "int4_qat_accuracy = test_model_qat(model, testloader)\n",
        "\n",
        "#was taking much time (12 mins per epoch) , so ran the same model for 3 more epochs instead of restarting it and running for 5 epochs"
      ],
      "metadata": {
        "colab": {
          "base_uri": "https://localhost:8080/"
        },
        "id": "goeebQ7JKGAp",
        "outputId": "02e15ade-7430-4a9e-f006-5c68f6df016a"
      },
      "execution_count": 21,
      "outputs": [
        {
          "output_type": "stream",
          "name": "stdout",
          "text": [
            "Epoch [1/3], Batch [0], Loss: 4.5713, Accuracy: 1.56%\n",
            "Epoch [1/3], Batch [100], Loss: 4.6125, Accuracy: 1.22%\n",
            "Epoch [1/3], Batch [200], Loss: 4.6111, Accuracy: 1.19%\n",
            "Epoch [1/3], Batch [300], Loss: 4.6108, Accuracy: 1.18%\n",
            "Epoch [2/3], Batch [0], Loss: 4.6160, Accuracy: 0.00%\n",
            "Epoch [2/3], Batch [100], Loss: 4.6028, Accuracy: 1.14%\n",
            "Epoch [2/3], Batch [200], Loss: 4.6042, Accuracy: 1.16%\n",
            "Epoch [2/3], Batch [300], Loss: 4.6039, Accuracy: 1.18%\n",
            "Epoch [3/3], Batch [0], Loss: 4.6013, Accuracy: 0.00%\n",
            "Epoch [3/3], Batch [100], Loss: 4.5993, Accuracy: 1.14%\n",
            "Epoch [3/3], Batch [200], Loss: 4.6015, Accuracy: 1.15%\n",
            "Epoch [3/3], Batch [300], Loss: 4.6008, Accuracy: 1.18%\n",
            "Testing int4 quantized model...\n",
            "Test Accuracy: 1.34%\n"
          ]
        }
      ]
    },
    {
      "cell_type": "markdown",
      "source": [
        "# Visualizing"
      ],
      "metadata": {
        "id": "2K9Wr53OLkry"
      }
    },
    {
      "cell_type": "code",
      "source": [
        "# qat_accuracies = [fp16_qat_acc, bf16_qat_acc, int8_qat_acc, int4_qat_acc]\n",
        "# ptq_accuracies = [fp16_acc, bf16_acc, int8_acc, int4_acc]\n",
        "\n",
        "# baseline VGG11 accuracy on CIFAR 100 ... 58.53 (at 5 epochs)\n",
        "# qat_accuracies = [61.38, 60.67, 31.23, 1.42]        #2 epochs quantization-aware-training\n",
        "# ptq_accuracies = [58.54, 58.57, 58.56, 30.04]\n",
        "\n",
        "\n",
        "# try 2\n",
        "#baseline 57.930\n",
        "# ptq_accuracies =  [57.950, 57.970, 57.930,  34.890]\n",
        "# qat_accuracies = [ 62.720 , 62.260 , 36.64 , 1.34]        #5 epochs quantization-aware-training"
      ],
      "metadata": {
        "id": "iTHdgCALMm1m"
      },
      "execution_count": null,
      "outputs": []
    },
    {
      "cell_type": "code",
      "source": [
        "import matplotlib.pyplot as plt\n",
        "\n",
        "def plot_quantization_accuracies(int8_qat_acc, int4_qat_acc, fp16_qat_acc, bf16_qat_acc,int8_acc, int4_acc, fp16_acc, bf16_acc):\n",
        "\n",
        "    # Define accuracies for QAT and PTQ\n",
        "    qat_accuracies = [fp16_qat_acc, bf16_qat_acc, int8_qat_acc, int4_qat_acc,]\n",
        "    ptq_accuracies = [fp16_acc, bf16_acc, int8_acc, int4_acc]\n",
        "    labels = ['FP16', 'BF16', 'INT8', 'INT4',]\n",
        "\n",
        "    # Set up bar positions\n",
        "    x = range(len(labels))\n",
        "    width = 0.35  # Width for bars\n",
        "\n",
        "    # Create plot\n",
        "    plt.figure(figsize=(10, 6))\n",
        "\n",
        "    # Plot QAT accuracies\n",
        "    plt.bar(x, qat_accuracies, width, label='QAT', color='skyblue')\n",
        "\n",
        "    # Plot PTQ accuracies offset slightly\n",
        "    plt.bar([pos + width for pos in x], ptq_accuracies, width, label='PTQ', color='salmon')\n",
        "\n",
        "    # Labels and title\n",
        "    plt.xlabel('Bit Width')\n",
        "    plt.ylabel('Model Accuracy')\n",
        "    plt.title('Quantization Accuracies: QAT vs PTQ for varying bit-widths')\n",
        "    plt.xticks([pos + width / 2 for pos in x], labels)  # Center labels\n",
        "    plt.legend()\n",
        "\n",
        "    # Display values on top of bars\n",
        "    for i in range(len(qat_accuracies)):\n",
        "        plt.text(x[i], qat_accuracies[i], f'{qat_accuracies[i]:.2f}', ha='center', va='bottom')\n",
        "        plt.text(x[i] + width, ptq_accuracies[i], f'{ptq_accuracies[i]:.2f}', ha='center', va='bottom')\n",
        "\n",
        "    plt.tight_layout()\n",
        "    plt.show()\n",
        "\n",
        "print(\"----------------------------------------->> QAT for 2 epochs\")\n",
        "plot_quantization_accuracies(int8_qat_accuracy, int4_qat_accuracy, fp16_qat_acc, bf16_qat_acc, int8_acc, int4_acc, fp16_acc, bf16_acc)"
      ],
      "metadata": {
        "colab": {
          "base_uri": "https://localhost:8080/",
          "height": 607
        },
        "id": "TKR2yQfjLm3g",
        "outputId": "2b49dd7b-0d97-4ea1-e8c6-cc370ae5a6e4"
      },
      "execution_count": 20,
      "outputs": [
        {
          "output_type": "display_data",
          "data": {
            "text/plain": [
              "<Figure size 1000x600 with 1 Axes>"
            ],
            "image/png": "[encoded data removed]"
          },
          "metadata": {}
        }
      ]
    },
    {
      "cell_type": "code",
      "source": [
        "print(\"----------------------------------------->> QAT for 5 epochs\")\n",
        "plot_quantization_accuracies(int8_qat_accuracy, int4_qat_accuracy, fp16_qat_acc, bf16_qat_acc, int8_acc_1, int4_acc_1, fp16_acc_1, bf16_acc_1)"
      ],
      "metadata": {
        "colab": {
          "base_uri": "https://localhost:8080/",
          "height": 607
        },
        "id": "uQuBizSEfYDS",
        "outputId": "ad477568-e661-4cc4-a4ae-3b681e693500"
      },
      "execution_count": 55,
      "outputs": [
        {
          "output_type": "display_data",
          "data": {
            "text/plain": [
              "<Figure size 1000x600 with 1 Axes>"
            ],
            "image/png": "[encoded data removed]"
          },
          "metadata": {}
        }
      ]
    }
  ]
}