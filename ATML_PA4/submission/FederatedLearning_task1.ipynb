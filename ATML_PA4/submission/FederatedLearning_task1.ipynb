{
  "cells": [
    {
      "cell_type": "markdown",
      "metadata": {
        "id": "w0Kx55PQTfgB"
      },
      "source": []
    },
    {
      "cell_type": "markdown",
      "metadata": {
        "id": "crmoYGCe2f79"
      },
      "source": [
        "# Assignment 4\n",
        "\n",
        "The objective of this assignment is to introduce you to federated learning, with a particular focus on the challenges posed by data heterogeneity. Specifically, you will explore well-known approaches for addressing statistical heterogeneity, approaching the problem from multiple angles.\n",
        "\n",
        "You have been provided with a manual that includes detailed descriptions of each task. Follow the instructions in the manual carefully, and add your answers and implementations directly in this notebook.\n",
        "\n",
        "Note: In this assignment, we concentrate on one common type of statistical heterogeneity: label skew. While feature skew is another significant aspect of heterogeneity, it will not be the focus of this assignment."
      ]
    },
    {
      "cell_type": "code",
      "execution_count": 1,
      "metadata": {
        "id": "d5RdSHuTTWhU"
      },
      "outputs": [],
      "source": [
        "import os\n",
        "import random\n",
        "import torch\n",
        "from torchvision import datasets, transforms\n",
        "import pickle\n",
        "import matplotlib.pyplot as plt\n",
        "import numpy as np\n",
        "from torch.utils.data import Dataset, DataLoader, TensorDataset, random_split\n",
        "from collections import defaultdict\n",
        "import torch.nn as nn\n",
        "import torch.optim as optim\n",
        "import torch.nn.functional as F\n",
        "from tqdm import tqdm\n",
        "from torch.utils.data import Subset\n"
      ]
    },
    {
      "cell_type": "code",
      "execution_count": 2,
      "metadata": {
        "colab": {
          "base_uri": "https://localhost:8080/"
        },
        "id": "id4kAraZa3bv",
        "outputId": "5de453a8-0670-4c4d-d27a-c87dea95b090"
      },
      "outputs": [
        {
          "output_type": "stream",
          "name": "stdout",
          "text": [
            "Downloading http://yann.lecun.com/exdb/mnist/train-images-idx3-ubyte.gz\n",
            "Failed to download (trying next):\n",
            "HTTP Error 403: Forbidden\n",
            "\n",
            "Downloading https://ossci-datasets.s3.amazonaws.com/mnist/train-images-idx3-ubyte.gz\n",
            "Downloading https://ossci-datasets.s3.amazonaws.com/mnist/train-images-idx3-ubyte.gz to ./data/MNIST/raw/train-images-idx3-ubyte.gz\n"
          ]
        },
        {
          "output_type": "stream",
          "name": "stderr",
          "text": [
            "100%|██████████| 9.91M/9.91M [00:00<00:00, 16.0MB/s]\n"
          ]
        },
        {
          "output_type": "stream",
          "name": "stdout",
          "text": [
            "Extracting ./data/MNIST/raw/train-images-idx3-ubyte.gz to ./data/MNIST/raw\n",
            "\n",
            "Downloading http://yann.lecun.com/exdb/mnist/train-labels-idx1-ubyte.gz\n",
            "Failed to download (trying next):\n",
            "HTTP Error 403: Forbidden\n",
            "\n",
            "Downloading https://ossci-datasets.s3.amazonaws.com/mnist/train-labels-idx1-ubyte.gz\n",
            "Downloading https://ossci-datasets.s3.amazonaws.com/mnist/train-labels-idx1-ubyte.gz to ./data/MNIST/raw/train-labels-idx1-ubyte.gz\n"
          ]
        },
        {
          "output_type": "stream",
          "name": "stderr",
          "text": [
            "100%|██████████| 28.9k/28.9k [00:00<00:00, 490kB/s]\n"
          ]
        },
        {
          "output_type": "stream",
          "name": "stdout",
          "text": [
            "Extracting ./data/MNIST/raw/train-labels-idx1-ubyte.gz to ./data/MNIST/raw\n",
            "\n",
            "Downloading http://yann.lecun.com/exdb/mnist/t10k-images-idx3-ubyte.gz\n",
            "Failed to download (trying next):\n",
            "HTTP Error 403: Forbidden\n",
            "\n",
            "Downloading https://ossci-datasets.s3.amazonaws.com/mnist/t10k-images-idx3-ubyte.gz\n",
            "Downloading https://ossci-datasets.s3.amazonaws.com/mnist/t10k-images-idx3-ubyte.gz to ./data/MNIST/raw/t10k-images-idx3-ubyte.gz\n"
          ]
        },
        {
          "output_type": "stream",
          "name": "stderr",
          "text": [
            "100%|██████████| 1.65M/1.65M [00:00<00:00, 3.80MB/s]\n"
          ]
        },
        {
          "output_type": "stream",
          "name": "stdout",
          "text": [
            "Extracting ./data/MNIST/raw/t10k-images-idx3-ubyte.gz to ./data/MNIST/raw\n",
            "\n",
            "Downloading http://yann.lecun.com/exdb/mnist/t10k-labels-idx1-ubyte.gz\n",
            "Failed to download (trying next):\n",
            "HTTP Error 403: Forbidden\n",
            "\n",
            "Downloading https://ossci-datasets.s3.amazonaws.com/mnist/t10k-labels-idx1-ubyte.gz\n",
            "Downloading https://ossci-datasets.s3.amazonaws.com/mnist/t10k-labels-idx1-ubyte.gz to ./data/MNIST/raw/t10k-labels-idx1-ubyte.gz\n"
          ]
        },
        {
          "output_type": "stream",
          "name": "stderr",
          "text": [
            "100%|██████████| 4.54k/4.54k [00:00<00:00, 2.34MB/s]\n"
          ]
        },
        {
          "output_type": "stream",
          "name": "stdout",
          "text": [
            "Extracting ./data/MNIST/raw/t10k-labels-idx1-ubyte.gz to ./data/MNIST/raw\n",
            "\n"
          ]
        }
      ],
      "source": [
        "seed = 42\n",
        "random.seed(seed)\n",
        "np.random.seed(seed)\n",
        "torch.manual_seed(seed)\n",
        "if torch.cuda.is_available():\n",
        "    torch.cuda.manual_seed_all(seed)\n",
        "\n",
        "transform = transforms.Compose([\n",
        "    transforms.ToTensor(),\n",
        "])\n",
        "\n",
        "dataset = datasets.MNIST(root='./data', train=True, download=True, transform=transform)\n",
        "\n",
        "# Calculate sizes for training and testing datasets\n",
        "train_size = int(0.8 * len(dataset))\n",
        "test_size = len(dataset) - train_size\n",
        "\n",
        "# Define fixed indices for train and test splits\n",
        "train_indices = list(range(train_size))\n",
        "test_indices = list(range(train_size, len(dataset)))\n",
        "\n",
        "# Create Subsets based on these indices\n",
        "train_dataset = Subset(dataset, train_indices)\n",
        "test_dataset = Subset(dataset, test_indices)\n",
        "\n",
        "train_images = dataset.data[train_dataset.indices].numpy()\n",
        "train_labels = dataset.targets[train_dataset.indices].numpy()\n",
        "test_images = dataset.data[test_dataset.indices].numpy()\n",
        "test_labels = dataset.targets[test_dataset.indices].numpy()\n"
      ]
    },
    {
      "cell_type": "code",
      "execution_count": 3,
      "metadata": {
        "id": "0ReOIlVR2f8B"
      },
      "outputs": [],
      "source": [
        "def partition_data(train_data, train_targets, test_data, test_targets, num_clients, dirichlet_alpha=0.5, batch_size=32):\n",
        "    num_classes = len(np.unique(train_targets))\n",
        "    client_data_indices = defaultdict(list)\n",
        "    client_test_indices = defaultdict(list)\n",
        "\n",
        "    # Partition Train Data and Capture Proportions\n",
        "    client_proportions = []\n",
        "    for c in range(num_classes):\n",
        "        class_indices = np.where(train_targets == c)[0]\n",
        "        proportions = np.random.dirichlet([dirichlet_alpha] * num_clients)\n",
        "        client_proportions.append(proportions)\n",
        "\n",
        "        # Calculate split sizes and assign indices to each client\n",
        "        split_sizes = (np.cumsum(proportions) * len(class_indices)).astype(int)[:-1]\n",
        "        client_indices_split = np.split(class_indices, split_sizes)\n",
        "\n",
        "        for i, indices in enumerate(client_indices_split):\n",
        "            client_data_indices[i].extend(indices)\n",
        "\n",
        "    # Partition Test Data Using the Same Proportions as Train Data\n",
        "    for c, proportions in enumerate(client_proportions):\n",
        "        class_indices = np.where(test_targets == c)[0]\n",
        "        split_sizes = (np.cumsum(proportions) * len(class_indices)).astype(int)[:-1]\n",
        "        client_indices_split = np.split(class_indices, split_sizes)\n",
        "\n",
        "        for i, indices in enumerate(client_indices_split):\n",
        "            client_test_indices[i].extend(indices)\n",
        "\n",
        "    # Create Federated Loaders\n",
        "    federated_train_loaders, federated_test_loaders = [], []\n",
        "    for i in range(num_clients):\n",
        "        client_train_data = torch.tensor(train_data[client_data_indices[i]], dtype=torch.float32).unsqueeze(1)\n",
        "        client_train_targets = torch.tensor(train_targets[client_data_indices[i]], dtype=torch.long)\n",
        "        train_loader = DataLoader(TensorDataset(client_train_data, client_train_targets), batch_size=batch_size, shuffle=False, drop_last=False)\n",
        "        federated_train_loaders.append(train_loader)\n",
        "\n",
        "        client_test_data = torch.tensor(test_data[client_test_indices[i]], dtype=torch.float32).unsqueeze(1)\n",
        "        client_test_targets = torch.tensor(test_targets[client_test_indices[i]], dtype=torch.long)\n",
        "        test_loader = DataLoader(TensorDataset(client_test_data, client_test_targets), batch_size=batch_size, shuffle=False, drop_last=False)\n",
        "        federated_test_loaders.append(test_loader)\n",
        "\n",
        "    # Create Centralized Loader by combining data from federated loaders\n",
        "    centralized_data, centralized_targets = [], []\n",
        "    for train_loader in federated_train_loaders:\n",
        "        for images, targets in train_loader:\n",
        "            centralized_data.append(images)\n",
        "            centralized_targets.append(targets)\n",
        "\n",
        "    centralized_data = torch.cat(centralized_data)\n",
        "    centralized_targets = torch.cat(centralized_targets)\n",
        "    train_centralized_loader = DataLoader(TensorDataset(centralized_data, centralized_targets), batch_size=batch_size, shuffle=False, drop_last=False)\n",
        "\n",
        "    centralized_test_data = torch.tensor(test_data, dtype=torch.float32).unsqueeze(1)\n",
        "    centralized_test_targets = torch.tensor(test_targets, dtype=torch.long)\n",
        "    test_centralized_loader = DataLoader(TensorDataset(centralized_test_data, centralized_test_targets), batch_size=batch_size, shuffle=False)\n",
        "\n",
        "    return federated_train_loaders, federated_test_loaders, train_centralized_loader, test_centralized_loader\n"
      ]
    },
    {
      "cell_type": "code",
      "source": [
        "def partition_data_equal(train_data, train_targets, test_data, test_targets, num_clients, batch_size=32):\n",
        "    num_samples = len(train_data)\n",
        "    indices = np.arange(num_samples)\n",
        "    # Shuffle indices deterministically\n",
        "    np.random.seed(seed)\n",
        "    np.random.shuffle(indices)\n",
        "    split_sizes = [num_samples // num_clients] * num_clients\n",
        "    for i in range(num_samples % num_clients):\n",
        "        split_sizes[i] += 1\n",
        "    client_indices = np.split(indices, np.cumsum(split_sizes)[:-1])\n",
        "\n",
        "    federated_train_loaders = []\n",
        "    for client_idx in client_indices:\n",
        "        client_train_data = torch.tensor(train_data[client_idx], dtype=torch.float32).unsqueeze(1)\n",
        "        client_train_targets = torch.tensor(train_targets[client_idx], dtype=torch.long)\n",
        "        train_loader = DataLoader(TensorDataset(client_train_data, client_train_targets), batch_size=batch_size, shuffle=False, drop_last=False)\n",
        "        federated_train_loaders.append(train_loader)\n",
        "\n",
        "    # Partition test data similarly\n",
        "    num_test_samples = len(test_data)\n",
        "    test_indices = np.arange(num_test_samples)\n",
        "    np.random.seed(seed)\n",
        "    np.random.shuffle(test_indices)\n",
        "    test_split_sizes = [num_test_samples // num_clients] * num_clients\n",
        "    for i in range(num_test_samples % num_clients):\n",
        "        test_split_sizes[i] += 1\n",
        "    client_test_indices = np.split(test_indices, np.cumsum(test_split_sizes)[:-1])\n",
        "\n",
        "    federated_test_loaders = []\n",
        "    for client_idx in client_test_indices:\n",
        "        client_test_data = torch.tensor(test_data[client_idx], dtype=torch.float32).unsqueeze(1)\n",
        "        client_test_targets = torch.tensor(test_targets[client_idx], dtype=torch.long)\n",
        "        test_loader = DataLoader(TensorDataset(client_test_data, client_test_targets), batch_size=batch_size, shuffle=False, drop_last=False)\n",
        "        federated_test_loaders.append(test_loader)\n",
        "\n",
        "    # Create centralized loaders\n",
        "    centralized_data = torch.tensor(train_data, dtype=torch.float32).unsqueeze(1)\n",
        "    centralized_targets = torch.tensor(train_targets, dtype=torch.long)\n",
        "    train_centralized_loader = DataLoader(TensorDataset(centralized_data, centralized_targets), batch_size=batch_size, shuffle=False, drop_last=False)\n",
        "\n",
        "    centralized_test_data = torch.tensor(test_data, dtype=torch.float32).unsqueeze(1)\n",
        "    centralized_test_targets = torch.tensor(test_targets, dtype=torch.long)\n",
        "    test_centralized_loader = DataLoader(TensorDataset(centralized_test_data, centralized_test_targets), batch_size=batch_size, shuffle=False)\n",
        "\n",
        "    return federated_train_loaders, federated_test_loaders, train_centralized_loader, test_centralized_loader\n"
      ],
      "metadata": {
        "id": "B5Dm2H204NIH"
      },
      "execution_count": 4,
      "outputs": []
    },
    {
      "cell_type": "code",
      "execution_count": 5,
      "metadata": {
        "id": "ygdrwc1kjJ87"
      },
      "outputs": [],
      "source": [
        "class SimpleCNN(nn.Module):\n",
        "    def __init__(self):\n",
        "        super(SimpleCNN, self).__init__()\n",
        "        self.conv1 = nn.Conv2d(1, 16, kernel_size=3, stride=1, padding=1)\n",
        "        self.conv2 = nn.Conv2d(16, 32, kernel_size=3, stride=1, padding=1)\n",
        "        self.fc1 = nn.Linear(32 * 7 * 7, 500)\n",
        "        self.fc2 = nn.Linear(500,10)\n",
        "        self.pool = nn.MaxPool2d(kernel_size=2, stride=2, padding=0)\n",
        "\n",
        "    def forward(self, x):\n",
        "        x = self.pool(F.relu(self.conv1(x)))\n",
        "        x = self.pool(F.relu(self.conv2(x)))\n",
        "        x = x.view(-1, 32 * 7 * 7)\n",
        "        x = F.relu(self.fc1(x))\n",
        "        x = self.fc2(x)\n",
        "        return x"
      ]
    },
    {
      "cell_type": "markdown",
      "metadata": {
        "id": "LESW3bG3Vd0m"
      },
      "source": [
        "# Task 1: Centralized Vs Federated Scenario"
      ]
    },
    {
      "cell_type": "markdown",
      "metadata": {
        "id": "k2oDPnlV2f8D"
      },
      "source": [
        "In this task, you will analyze the theoretical equivalence between FedSGD and a centralized training scenario. The code for both implementations has been provided. To minimize differences caused by floating-point precision, a batch size of 1 is used, along with full-batch gradient descent. You may change the device to cpu if you wish, as gpu will not be utilized for batch size of 1.\n",
        "\n",
        "Since we are working with batch size 1 and full-batch gradient descent, accuracy is not the focus here. Instead, you will monitor gradient divergence by tracking the sum or magnitude of the gradients at each round and observe how they evolve in both settings.\n",
        "\n",
        "Theoretically, FedSGD and centralized training should yield equivalent results. However, in this task, you may observe discrepancies. Your objective is to understand the code and identify the error that causes this divergence. You may want to review why FedSGD and full-batch centralized gradient descent are theoretically equivalent by revisiting the gradient descent steps on the global objective, as covered in class. Finally, assess whether the code aligns with these theoretical steps. If you believe they should not be equivalent, provide a reasoned justification."
      ]
    },
    {
      "cell_type": "markdown",
      "source": [
        "# Equally distributing the data amoung all clients"
      ],
      "metadata": {
        "id": "Lx817I16U4vt"
      }
    },
    {
      "cell_type": "code",
      "execution_count": 6,
      "metadata": {
        "id": "mL35FHGB2f8D"
      },
      "outputs": [],
      "source": [
        "num_clients = 5\n",
        "dirichlet_alpha = 0.8\n",
        "batch_size = 1\n",
        "\n",
        "\n",
        "\n"
      ]
    },
    {
      "cell_type": "code",
      "source": [
        "# Use the modified partition_data_equal function\n",
        "federated_train_loaders, federated_test_loaders, train_centralized_loader, test_centralized_loader = partition_data_equal(\n",
        "    train_images / 255.0, train_labels, test_images / 255.0, test_labels, num_clients, batch_size\n",
        ")"
      ],
      "metadata": {
        "id": "eNOx9g52eKSA"
      },
      "execution_count": null,
      "outputs": []
    },
    {
      "cell_type": "code",
      "execution_count": 7,
      "metadata": {
        "id": "bDOOZ9cwWNr_"
      },
      "outputs": [],
      "source": [
        "def fedsgd_training(global_model, train_loaders, num_clients, rounds, lr):\n",
        "    round_avg_updates = []\n",
        "\n",
        "    device = torch.device(\"cuda\" if torch.cuda.is_available() else \"cpu\")\n",
        "    global_model.to(device)\n",
        "    print(f\"Using device: {device}\")\n",
        "\n",
        "    client_data_counts = [len(train_loader.dataset) for train_loader in train_loaders]\n",
        "    total_data_count = 0\n",
        "    for count in client_data_counts:\n",
        "        total_data_count += count\n",
        "\n",
        "    for round_num in range(rounds):\n",
        "        client_updates = []\n",
        "        print(f\"Round {round_num + 1}/{rounds}\")\n",
        "\n",
        "        for client_id in range(num_clients):\n",
        "            overall_update = local_train(global_model, train_loaders[client_id], lr)\n",
        "            client_update_device = {name: update.to(device) for name, update in overall_update.items()}\n",
        "            client_updates.append(client_update_device)\n",
        "\n",
        "            client_update_sum = 0\n",
        "            for update in client_update_device.values():\n",
        "                client_update_sum += update.abs().sum().item()\n",
        "            print(f\"Client {client_id + 1} Update Sum at Round {round_num + 1}: {client_update_sum}\")\n",
        "\n",
        "        avg_update = {}\n",
        "        for name in global_model.state_dict():\n",
        "            grad_sum = torch.zeros_like(global_model.state_dict()[name], device=device)\n",
        "            for client_id in range(num_clients):\n",
        "                grad_sum += client_updates[client_id][name]\n",
        "            avg_update[name] = grad_sum\n",
        "\n",
        "        round_avg_updates.append(avg_update)\n",
        "\n",
        "        avg_update_sum = 0\n",
        "        for update in avg_update.values():\n",
        "            avg_update_sum += update.abs().sum().item()\n",
        "        print(f\"Averaged Update Sum at Round {round_num + 1}: {avg_update_sum}\")\n",
        "\n",
        "        with torch.no_grad():\n",
        "            for name, param in global_model.named_parameters():\n",
        "                param -= avg_update[name]\n",
        "\n",
        "    return round_avg_updates\n",
        "\n",
        "\n",
        "\n",
        "def local_train(model, train_loader, lr):\n",
        "    local_model = SimpleCNN()\n",
        "    local_model.load_state_dict(model.state_dict())\n",
        "    local_model.train()\n",
        "\n",
        "    optimizer = optim.SGD(local_model.parameters(), lr=lr)\n",
        "    criterion = nn.CrossEntropyLoss(reduction=\"sum\")\n",
        "\n",
        "    device = torch.device(\"cuda\" if torch.cuda.is_available() else \"cpu\")\n",
        "    local_model.to(device)\n",
        "\n",
        "    initial_weights = {name: param.clone() for name, param in local_model.named_parameters()}\n",
        "\n",
        "    for epoch in range(1):\n",
        "        print(f\"Epoch {epoch + 1}/{1} for local client\")\n",
        "        optimizer.zero_grad()\n",
        "        batch_iterator = tqdm(train_loader, desc=f\"Training Batches (Epoch {epoch + 1})\")\n",
        "\n",
        "        # Loop over batches\n",
        "        for x_train, y_train in batch_iterator:\n",
        "            x_train, y_train = x_train.to(device), y_train.to(device)\n",
        "            outputs = local_model(x_train)\n",
        "            loss = criterion(outputs, y_train)\n",
        "            loss.backward()\n",
        "            batch_iterator.set_postfix(loss=loss.item())\n",
        "\n",
        "        optimizer.step()\n",
        "\n",
        "    overall_update = {name: initial_weights[name] - param for name, param in local_model.named_parameters()}\n",
        "\n",
        "    return overall_update\n"
      ]
    },
    {
      "cell_type": "code",
      "execution_count": 8,
      "metadata": {
        "id": "-TFTDRziVBj9"
      },
      "outputs": [],
      "source": [
        "def centralized_training_updates(global_model, train_loader, epochs, lr):\n",
        "    centralized_model = SimpleCNN()\n",
        "    centralized_model.load_state_dict(global_model.state_dict())\n",
        "    centralized_model.train()\n",
        "\n",
        "    optimizer = optim.SGD(centralized_model.parameters(), lr=lr)\n",
        "    criterion = nn.CrossEntropyLoss(reduction=\"sum\")\n",
        "\n",
        "    device = torch.device(\"cuda\" if torch.cuda.is_available() else \"cpu\")\n",
        "    print(f\"Using device: {device}\")\n",
        "    centralized_model.to(device)\n",
        "\n",
        "    epoch_updates = []\n",
        "\n",
        "    for epoch in range(epochs):\n",
        "        print(f\"Epoch {epoch + 1}/{epochs}\")\n",
        "        epoch_initial_weights = {name: param.clone() for name, param in centralized_model.named_parameters()}\n",
        "        optimizer.zero_grad()\n",
        "        batch_iterator = tqdm(train_loader, desc=f\"Training Batches (Epoch {epoch + 1})\")\n",
        "\n",
        "        for x_train, y_train in batch_iterator:\n",
        "            x_train, y_train = x_train.to(device), y_train.to(device)\n",
        "            outputs = centralized_model(x_train)\n",
        "            loss = criterion(outputs, y_train)\n",
        "            loss.backward()\n",
        "\n",
        "            batch_iterator.set_postfix(loss=loss.item())\n",
        "\n",
        "        optimizer.step()\n",
        "\n",
        "        epoch_update = {name: param - epoch_initial_weights[name]  for name, param in centralized_model.named_parameters()}\n",
        "        epoch_updates.append(epoch_update)\n",
        "\n",
        "        epoch_update_sum = 0\n",
        "        for update in epoch_update.values():\n",
        "            epoch_update_sum += update.abs().sum().item()\n",
        "\n",
        "        print(f\"Epoch {epoch + 1} Update Sum: {epoch_update_sum}\")\n",
        "\n",
        "    global_model.load_state_dict(centralized_model.state_dict())\n",
        "\n",
        "    return epoch_updates\n"
      ]
    },
    {
      "cell_type": "code",
      "execution_count": 9,
      "metadata": {
        "id": "_knb-8et2-JX"
      },
      "outputs": [],
      "source": [
        "# Initialize model and parameters\n",
        "rounds = 4\n",
        "lr = 1e-4\n",
        "initial_model = SimpleCNN()"
      ]
    },
    {
      "cell_type": "code",
      "execution_count": 21,
      "metadata": {
        "colab": {
          "base_uri": "https://localhost:8080/"
        },
        "id": "YLIlOCVhFlYm",
        "outputId": "da737cd9-baa2-49f3-d4d8-85fb19a3a432"
      },
      "outputs": [
        {
          "output_type": "stream",
          "name": "stdout",
          "text": [
            "Using device: cuda\n",
            "Epoch 1/4\n"
          ]
        },
        {
          "output_type": "stream",
          "name": "stderr",
          "text": [
            "Training Batches (Epoch 1): 100%|██████████| 48000/48000 [03:37<00:00, 220.55it/s, loss=2.27]\n"
          ]
        },
        {
          "output_type": "stream",
          "name": "stdout",
          "text": [
            "Epoch 1 Update Sum: 274.6468212455511\n",
            "Epoch 2/4\n"
          ]
        },
        {
          "output_type": "stream",
          "name": "stderr",
          "text": [
            "Training Batches (Epoch 2): 100%|██████████| 48000/48000 [03:40<00:00, 218.07it/s, loss=2.22]\n"
          ]
        },
        {
          "output_type": "stream",
          "name": "stdout",
          "text": [
            "Epoch 2 Update Sum: 374.66806879639626\n",
            "Epoch 3/4\n"
          ]
        },
        {
          "output_type": "stream",
          "name": "stderr",
          "text": [
            "Training Batches (Epoch 3): 100%|██████████| 48000/48000 [03:36<00:00, 221.66it/s, loss=1.24]\n"
          ]
        },
        {
          "output_type": "stream",
          "name": "stdout",
          "text": [
            "Epoch 3 Update Sum: 4553.069828748703\n",
            "Epoch 4/4\n"
          ]
        },
        {
          "output_type": "stream",
          "name": "stderr",
          "text": [
            "Training Batches (Epoch 4): 100%|██████████| 48000/48000 [03:35<00:00, 222.81it/s, loss=1.23e+3]\n"
          ]
        },
        {
          "output_type": "stream",
          "name": "stdout",
          "text": [
            "Epoch 4 Update Sum: 265180.92505836487\n"
          ]
        }
      ],
      "source": [
        "# Centralized Training\n",
        "global_model_centralized = SimpleCNN()\n",
        "global_model_centralized.load_state_dict(initial_model.state_dict())\n",
        "centralized_updates = centralized_training_updates(global_model_centralized, train_centralized_loader, epochs=rounds, lr=lr)"
      ]
    },
    {
      "cell_type": "code",
      "execution_count": 20,
      "metadata": {
        "colab": {
          "base_uri": "https://localhost:8080/"
        },
        "id": "8miFVteUm53o",
        "outputId": "8ad9da8e-1a6d-443f-e28b-dd8bc9a7f184"
      },
      "outputs": [
        {
          "output_type": "stream",
          "name": "stdout",
          "text": [
            "Using device: cuda\n",
            "Round 1/4\n",
            "Epoch 1/1 for local client\n"
          ]
        },
        {
          "output_type": "stream",
          "name": "stderr",
          "text": [
            "Training Batches (Epoch 1): 100%|██████████| 9600/9600 [00:44<00:00, 216.46it/s, loss=2.29]\n"
          ]
        },
        {
          "output_type": "stream",
          "name": "stdout",
          "text": [
            "Client 1 Update Sum at Round 1: 55.93630897626281\n",
            "Epoch 1/1 for local client\n"
          ]
        },
        {
          "output_type": "stream",
          "name": "stderr",
          "text": [
            "Training Batches (Epoch 1): 100%|██████████| 9600/9600 [00:44<00:00, 218.15it/s, loss=2.32]\n"
          ]
        },
        {
          "output_type": "stream",
          "name": "stdout",
          "text": [
            "Client 2 Update Sum at Round 1: 54.05830713361502\n",
            "Epoch 1/1 for local client\n"
          ]
        },
        {
          "output_type": "stream",
          "name": "stderr",
          "text": [
            "Training Batches (Epoch 1): 100%|██████████| 9600/9600 [00:45<00:00, 212.92it/s, loss=2.31]\n"
          ]
        },
        {
          "output_type": "stream",
          "name": "stdout",
          "text": [
            "Client 3 Update Sum at Round 1: 54.62515549361706\n",
            "Epoch 1/1 for local client\n"
          ]
        },
        {
          "output_type": "stream",
          "name": "stderr",
          "text": [
            "Training Batches (Epoch 1): 100%|██████████| 9600/9600 [00:44<00:00, 214.72it/s, loss=2.27]\n"
          ]
        },
        {
          "output_type": "stream",
          "name": "stdout",
          "text": [
            "Client 4 Update Sum at Round 1: 57.53683461621404\n",
            "Epoch 1/1 for local client\n"
          ]
        },
        {
          "output_type": "stream",
          "name": "stderr",
          "text": [
            "Training Batches (Epoch 1): 100%|██████████| 9600/9600 [00:44<00:00, 214.27it/s, loss=2.36]\n"
          ]
        },
        {
          "output_type": "stream",
          "name": "stdout",
          "text": [
            "Client 5 Update Sum at Round 1: 55.120809299871325\n",
            "Averaged Update Sum at Round 1: 274.6468363106251\n",
            "Round 2/4\n",
            "Epoch 1/1 for local client\n"
          ]
        },
        {
          "output_type": "stream",
          "name": "stderr",
          "text": [
            "Training Batches (Epoch 1): 100%|██████████| 9600/9600 [00:44<00:00, 216.86it/s, loss=2.26]\n"
          ]
        },
        {
          "output_type": "stream",
          "name": "stdout",
          "text": [
            "Client 1 Update Sum at Round 2: 74.20894050225616\n",
            "Epoch 1/1 for local client\n"
          ]
        },
        {
          "output_type": "stream",
          "name": "stderr",
          "text": [
            "Training Batches (Epoch 1): 100%|██████████| 9600/9600 [00:44<00:00, 217.99it/s, loss=2.29]\n"
          ]
        },
        {
          "output_type": "stream",
          "name": "stdout",
          "text": [
            "Client 2 Update Sum at Round 2: 75.8680550083518\n",
            "Epoch 1/1 for local client\n"
          ]
        },
        {
          "output_type": "stream",
          "name": "stderr",
          "text": [
            "Training Batches (Epoch 1): 100%|██████████| 9600/9600 [00:45<00:00, 212.91it/s, loss=2.14]\n"
          ]
        },
        {
          "output_type": "stream",
          "name": "stdout",
          "text": [
            "Client 3 Update Sum at Round 2: 75.76335598528385\n",
            "Epoch 1/1 for local client\n"
          ]
        },
        {
          "output_type": "stream",
          "name": "stderr",
          "text": [
            "Training Batches (Epoch 1): 100%|██████████| 9600/9600 [00:44<00:00, 217.70it/s, loss=2.18]\n"
          ]
        },
        {
          "output_type": "stream",
          "name": "stdout",
          "text": [
            "Client 4 Update Sum at Round 2: 75.15732084959745\n",
            "Epoch 1/1 for local client\n"
          ]
        },
        {
          "output_type": "stream",
          "name": "stderr",
          "text": [
            "Training Batches (Epoch 1): 100%|██████████| 9600/9600 [00:44<00:00, 217.61it/s, loss=2.05]\n"
          ]
        },
        {
          "output_type": "stream",
          "name": "stdout",
          "text": [
            "Client 5 Update Sum at Round 2: 75.85951329022646\n",
            "Averaged Update Sum at Round 2: 374.6673586368561\n",
            "Round 3/4\n",
            "Epoch 1/1 for local client\n"
          ]
        },
        {
          "output_type": "stream",
          "name": "stderr",
          "text": [
            "Training Batches (Epoch 1): 100%|██████████| 9600/9600 [00:44<00:00, 217.22it/s, loss=1.04]\n"
          ]
        },
        {
          "output_type": "stream",
          "name": "stdout",
          "text": [
            "Client 1 Update Sum at Round 3: 913.4495292305946\n",
            "Epoch 1/1 for local client\n"
          ]
        },
        {
          "output_type": "stream",
          "name": "stderr",
          "text": [
            "Training Batches (Epoch 1): 100%|██████████| 9600/9600 [00:44<00:00, 216.91it/s, loss=1.36]\n"
          ]
        },
        {
          "output_type": "stream",
          "name": "stdout",
          "text": [
            "Client 2 Update Sum at Round 3: 890.4053272604942\n",
            "Epoch 1/1 for local client\n"
          ]
        },
        {
          "output_type": "stream",
          "name": "stderr",
          "text": [
            "Training Batches (Epoch 1): 100%|██████████| 9600/9600 [00:44<00:00, 214.87it/s, loss=2.1]\n"
          ]
        },
        {
          "output_type": "stream",
          "name": "stdout",
          "text": [
            "Client 3 Update Sum at Round 3: 910.7995156049728\n",
            "Epoch 1/1 for local client\n"
          ]
        },
        {
          "output_type": "stream",
          "name": "stderr",
          "text": [
            "Training Batches (Epoch 1): 100%|██████████| 9600/9600 [00:44<00:00, 216.69it/s, loss=2.61]\n"
          ]
        },
        {
          "output_type": "stream",
          "name": "stdout",
          "text": [
            "Client 4 Update Sum at Round 3: 950.3755027651787\n",
            "Epoch 1/1 for local client\n"
          ]
        },
        {
          "output_type": "stream",
          "name": "stderr",
          "text": [
            "Training Batches (Epoch 1): 100%|██████████| 9600/9600 [00:44<00:00, 214.70it/s, loss=2.94]\n"
          ]
        },
        {
          "output_type": "stream",
          "name": "stdout",
          "text": [
            "Client 5 Update Sum at Round 3: 892.425296664238\n",
            "Averaged Update Sum at Round 3: 4553.077459812164\n",
            "Round 4/4\n",
            "Epoch 1/1 for local client\n"
          ]
        },
        {
          "output_type": "stream",
          "name": "stderr",
          "text": [
            "Training Batches (Epoch 1): 100%|██████████| 9600/9600 [00:44<00:00, 216.99it/s, loss=590]\n"
          ]
        },
        {
          "output_type": "stream",
          "name": "stdout",
          "text": [
            "Client 1 Update Sum at Round 4: 52652.77111697197\n",
            "Epoch 1/1 for local client\n"
          ]
        },
        {
          "output_type": "stream",
          "name": "stderr",
          "text": [
            "Training Batches (Epoch 1): 100%|██████████| 9600/9600 [00:45<00:00, 212.65it/s, loss=368]\n"
          ]
        },
        {
          "output_type": "stream",
          "name": "stdout",
          "text": [
            "Client 2 Update Sum at Round 4: 53245.03164875507\n",
            "Epoch 1/1 for local client\n"
          ]
        },
        {
          "output_type": "stream",
          "name": "stderr",
          "text": [
            "Training Batches (Epoch 1): 100%|██████████| 9600/9600 [00:44<00:00, 213.86it/s, loss=251]\n"
          ]
        },
        {
          "output_type": "stream",
          "name": "stdout",
          "text": [
            "Client 3 Update Sum at Round 4: 53407.008563280106\n",
            "Epoch 1/1 for local client\n"
          ]
        },
        {
          "output_type": "stream",
          "name": "stderr",
          "text": [
            "Training Batches (Epoch 1): 100%|██████████| 9600/9600 [00:43<00:00, 218.46it/s, loss=225]\n"
          ]
        },
        {
          "output_type": "stream",
          "name": "stdout",
          "text": [
            "Client 4 Update Sum at Round 4: 52415.015511512756\n",
            "Epoch 1/1 for local client\n"
          ]
        },
        {
          "output_type": "stream",
          "name": "stderr",
          "text": [
            "Training Batches (Epoch 1): 100%|██████████| 9600/9600 [00:42<00:00, 224.20it/s, loss=0]\n"
          ]
        },
        {
          "output_type": "stream",
          "name": "stdout",
          "text": [
            "Client 5 Update Sum at Round 4: 53461.3667383194\n",
            "Averaged Update Sum at Round 4: 265179.38376903534\n"
          ]
        }
      ],
      "source": [
        "# Fedsgd\n",
        "global_model_fedsgd = SimpleCNN()\n",
        "global_model_fedsgd.load_state_dict(initial_model.state_dict())\n",
        "fedsgd_avg_updates = fedsgd_training(global_model_fedsgd, federated_train_loaders, num_clients, rounds=rounds, lr=lr)"
      ]
    },
    {
      "cell_type": "code",
      "execution_count": 23,
      "metadata": {
        "colab": {
          "base_uri": "https://localhost:8080/",
          "height": 490
        },
        "id": "pEFk4VyQyuRL",
        "outputId": "71d20ec1-7f69-4719-8baf-9cc34b371806"
      },
      "outputs": [
        {
          "output_type": "display_data",
          "data": {
            "text/plain": [
              "<Figure size 640x480 with 1 Axes>"
            ],
            "image/png": "[encoded data removed]"
          },
          "metadata": {}
        },
        {
          "output_type": "stream",
          "name": "stdout",
          "text": [
            "Success! The gradients are approximately the same.\n"
          ]
        }
      ],
      "source": [
        "# Calculate update magnitudes for each round\n",
        "centralized_magnitudes = [sum(param.norm().item() for param in round_update.values()) for round_update in centralized_updates]\n",
        "fedsgd_magnitudes = [sum(param.norm().item() for param in update.values()) for update in fedsgd_avg_updates]\n",
        "\n",
        "# Plot update magnitudes\n",
        "x_labels = range(1, rounds + 1)\n",
        "width = 0.25\n",
        "\n",
        "plt.bar([x - width for x in x_labels], centralized_magnitudes, width=width, label=\"Centralized\")\n",
        "plt.bar(x_labels, fedsgd_magnitudes, width=width, label=\"FedSGD\")\n",
        "plt.xlabel(\"Round\")\n",
        "plt.ylabel(\"Average Update Magnitude\")\n",
        "plt.title(\"Update Magnitude Comparison Across Methods\")\n",
        "plt.legend()\n",
        "plt.show()\n",
        "\n",
        "# Check if the gradients are approximately the same\n",
        "tolerance = 1e-2\n",
        "success = all(abs(c - f) <= tolerance for c, f in zip(centralized_magnitudes, fedsgd_magnitudes))\n",
        "\n",
        "if success:\n",
        "    print(\"Success! The gradients are approximately the same.\")\n",
        "else:\n",
        "    print(\"Keep trying\")"
      ]
    },
    {
      "cell_type": "code",
      "source": [
        "print(centralized_magnitudes)\n",
        "print(fedsgd_magnitudes)\n"
      ],
      "metadata": {
        "colab": {
          "base_uri": "https://localhost:8080/"
        },
        "id": "wt36WgktAfx-",
        "outputId": "a0fb744c-1d4b-415b-e9a7-6d60d107adb6"
      },
      "execution_count": 24,
      "outputs": [
        {
          "output_type": "stream",
          "name": "stdout",
          "text": [
            "[1.3953942004591227, 3.1539922058582306, 33.13291049003601, 7850.4540004730225]\n",
            "[1.395393967628479, 3.1539866775274277, 33.13290745019913, 7850.460466384888]\n"
          ]
        }
      ]
    },
    {
      "cell_type": "markdown",
      "source": [
        "# Original code"
      ],
      "metadata": {
        "id": "2padxPySVBzs"
      }
    },
    {
      "cell_type": "code",
      "source": [
        "# Partition data and create loaders\n",
        "federated_train_loaders, federated_test_loaders, train_centralized_loader, test_centralized_loader = partition_data(\n",
        "    train_images / 255.0, train_labels, test_images / 255.0, test_labels, num_clients, dirichlet_alpha, batch_size\n",
        ")\n",
        "\n"
      ],
      "metadata": {
        "id": "vIXmzLXbVBc2"
      },
      "execution_count": 10,
      "outputs": []
    },
    {
      "cell_type": "code",
      "source": [
        "# Initialize model and parameters\n",
        "rounds = 4\n",
        "lr = 1e-4\n",
        "initial_model = SimpleCNN()\n",
        "\n",
        "# Centralized Training\n",
        "global_model_centralized_original = SimpleCNN()\n",
        "global_model_centralized_original.load_state_dict(initial_model.state_dict())\n",
        "centralized_updates_original = centralized_training_updates(global_model_centralized_original, train_centralized_loader, epochs=rounds, lr=lr)\n",
        "\n",
        "\n"
      ],
      "metadata": {
        "colab": {
          "base_uri": "https://localhost:8080/"
        },
        "id": "s-y3DuGLZNU9",
        "outputId": "683ef45b-e678-4a83-f47c-ade420f3cfa4"
      },
      "execution_count": 11,
      "outputs": [
        {
          "output_type": "stream",
          "name": "stdout",
          "text": [
            "Using device: cpu\n",
            "Epoch 1/4\n"
          ]
        },
        {
          "output_type": "stream",
          "name": "stderr",
          "text": [
            "Training Batches (Epoch 1): 100%|██████████| 48000/48000 [06:41<00:00, 119.43it/s, loss=2.3]\n"
          ]
        },
        {
          "output_type": "stream",
          "name": "stdout",
          "text": [
            "Epoch 1 Update Sum: 336.184920232743\n",
            "Epoch 2/4\n"
          ]
        },
        {
          "output_type": "stream",
          "name": "stderr",
          "text": [
            "Training Batches (Epoch 2): 100%|██████████| 48000/48000 [06:28<00:00, 123.63it/s, loss=2.29]\n"
          ]
        },
        {
          "output_type": "stream",
          "name": "stdout",
          "text": [
            "Epoch 2 Update Sum: 460.450255215168\n",
            "Epoch 3/4\n"
          ]
        },
        {
          "output_type": "stream",
          "name": "stderr",
          "text": [
            "Training Batches (Epoch 3): 100%|██████████| 48000/48000 [06:27<00:00, 124.02it/s, loss=4.37]\n"
          ]
        },
        {
          "output_type": "stream",
          "name": "stdout",
          "text": [
            "Epoch 3 Update Sum: 16963.090428352356\n",
            "Epoch 4/4\n"
          ]
        },
        {
          "output_type": "stream",
          "name": "stderr",
          "text": [
            "Training Batches (Epoch 4): 100%|██████████| 48000/48000 [06:23<00:00, 125.25it/s, loss=1.87]\n"
          ]
        },
        {
          "output_type": "stream",
          "name": "stdout",
          "text": [
            "Epoch 4 Update Sum: 7113.687885284424\n"
          ]
        }
      ]
    },
    {
      "cell_type": "code",
      "source": [
        "# Fedsgd\n",
        "global_model_fedsgd_original = SimpleCNN()\n",
        "global_model_fedsgd_original.load_state_dict(initial_model.state_dict())\n",
        "fedsgd_avg_updates_original = fedsgd_training(global_model_fedsgd_original, federated_train_loaders, num_clients, rounds=rounds, lr=lr)\n",
        "\n"
      ],
      "metadata": {
        "colab": {
          "base_uri": "https://localhost:8080/"
        },
        "id": "u_jZ49bPZQqc",
        "outputId": "6e87f801-652a-400a-bd3f-4000cef3edbe"
      },
      "execution_count": 12,
      "outputs": [
        {
          "output_type": "stream",
          "name": "stdout",
          "text": [
            "Using device: cpu\n",
            "Round 1/4\n",
            "Epoch 1/1 for local client\n"
          ]
        },
        {
          "output_type": "stream",
          "name": "stderr",
          "text": [
            "Training Batches (Epoch 1): 100%|██████████| 11286/11286 [01:31<00:00, 123.77it/s, loss=2.3]\n"
          ]
        },
        {
          "output_type": "stream",
          "name": "stdout",
          "text": [
            "Client 1 Update Sum at Round 1: 159.3787695541978\n",
            "Epoch 1/1 for local client\n"
          ]
        },
        {
          "output_type": "stream",
          "name": "stderr",
          "text": [
            "Training Batches (Epoch 1): 100%|██████████| 13796/13796 [01:50<00:00, 124.77it/s, loss=2.28]\n"
          ]
        },
        {
          "output_type": "stream",
          "name": "stdout",
          "text": [
            "Client 2 Update Sum at Round 1: 313.60194873809814\n",
            "Epoch 1/1 for local client\n"
          ]
        },
        {
          "output_type": "stream",
          "name": "stderr",
          "text": [
            "Training Batches (Epoch 1): 100%|██████████| 9345/9345 [01:16<00:00, 122.80it/s, loss=2.29]\n"
          ]
        },
        {
          "output_type": "stream",
          "name": "stdout",
          "text": [
            "Client 3 Update Sum at Round 1: 184.76244822517037\n",
            "Epoch 1/1 for local client\n"
          ]
        },
        {
          "output_type": "stream",
          "name": "stderr",
          "text": [
            "Training Batches (Epoch 1): 100%|██████████| 5792/5792 [00:46<00:00, 123.92it/s, loss=2.27]\n"
          ]
        },
        {
          "output_type": "stream",
          "name": "stdout",
          "text": [
            "Client 4 Update Sum at Round 1: 145.85181955620646\n",
            "Epoch 1/1 for local client\n"
          ]
        },
        {
          "output_type": "stream",
          "name": "stderr",
          "text": [
            "Training Batches (Epoch 1): 100%|██████████| 7781/7781 [01:01<00:00, 127.38it/s, loss=2.3]\n"
          ]
        },
        {
          "output_type": "stream",
          "name": "stdout",
          "text": [
            "Client 5 Update Sum at Round 1: 175.1164625454694\n",
            "Averaged Update Sum at Round 1: 336.1849547661841\n",
            "Round 2/4\n",
            "Epoch 1/1 for local client\n"
          ]
        },
        {
          "output_type": "stream",
          "name": "stderr",
          "text": [
            "Training Batches (Epoch 1): 100%|██████████| 11286/11286 [01:29<00:00, 125.73it/s, loss=2.29]\n"
          ]
        },
        {
          "output_type": "stream",
          "name": "stdout",
          "text": [
            "Client 1 Update Sum at Round 2: 197.48734186589718\n",
            "Epoch 1/1 for local client\n"
          ]
        },
        {
          "output_type": "stream",
          "name": "stderr",
          "text": [
            "Training Batches (Epoch 1): 100%|██████████| 13796/13796 [01:52<00:00, 122.53it/s, loss=2.25]\n"
          ]
        },
        {
          "output_type": "stream",
          "name": "stdout",
          "text": [
            "Client 2 Update Sum at Round 2: 341.245932251215\n",
            "Epoch 1/1 for local client\n"
          ]
        },
        {
          "output_type": "stream",
          "name": "stderr",
          "text": [
            "Training Batches (Epoch 1): 100%|██████████| 9345/9345 [01:14<00:00, 125.85it/s, loss=2.28]\n"
          ]
        },
        {
          "output_type": "stream",
          "name": "stdout",
          "text": [
            "Client 3 Update Sum at Round 2: 194.24541832506657\n",
            "Epoch 1/1 for local client\n"
          ]
        },
        {
          "output_type": "stream",
          "name": "stderr",
          "text": [
            "Training Batches (Epoch 1): 100%|██████████| 5792/5792 [00:45<00:00, 126.34it/s, loss=2.23]\n"
          ]
        },
        {
          "output_type": "stream",
          "name": "stdout",
          "text": [
            "Client 4 Update Sum at Round 2: 156.89571165293455\n",
            "Epoch 1/1 for local client\n"
          ]
        },
        {
          "output_type": "stream",
          "name": "stderr",
          "text": [
            "Training Batches (Epoch 1): 100%|██████████| 7781/7781 [01:02<00:00, 124.36it/s, loss=2.29]\n"
          ]
        },
        {
          "output_type": "stream",
          "name": "stdout",
          "text": [
            "Client 5 Update Sum at Round 2: 204.8738894239068\n",
            "Averaged Update Sum at Round 2: 460.45009449124336\n",
            "Round 3/4\n",
            "Epoch 1/1 for local client\n"
          ]
        },
        {
          "output_type": "stream",
          "name": "stderr",
          "text": [
            "Training Batches (Epoch 1): 100%|██████████| 11286/11286 [01:29<00:00, 126.43it/s, loss=3.93]\n"
          ]
        },
        {
          "output_type": "stream",
          "name": "stdout",
          "text": [
            "Client 1 Update Sum at Round 3: 4137.533456325531\n",
            "Epoch 1/1 for local client\n"
          ]
        },
        {
          "output_type": "stream",
          "name": "stderr",
          "text": [
            "Training Batches (Epoch 1): 100%|██████████| 13796/13796 [01:50<00:00, 124.63it/s, loss=2.93]\n"
          ]
        },
        {
          "output_type": "stream",
          "name": "stdout",
          "text": [
            "Client 2 Update Sum at Round 3: 5298.2129778862\n",
            "Epoch 1/1 for local client\n"
          ]
        },
        {
          "output_type": "stream",
          "name": "stderr",
          "text": [
            "Training Batches (Epoch 1): 100%|██████████| 9345/9345 [01:16<00:00, 122.84it/s, loss=3.75]\n"
          ]
        },
        {
          "output_type": "stream",
          "name": "stdout",
          "text": [
            "Client 3 Update Sum at Round 3: 3677.7929681539536\n",
            "Epoch 1/1 for local client\n"
          ]
        },
        {
          "output_type": "stream",
          "name": "stderr",
          "text": [
            "Training Batches (Epoch 1): 100%|██████████| 5792/5792 [00:46<00:00, 124.90it/s, loss=2.1]\n"
          ]
        },
        {
          "output_type": "stream",
          "name": "stdout",
          "text": [
            "Client 4 Update Sum at Round 3: 2376.8136415481567\n",
            "Epoch 1/1 for local client\n"
          ]
        },
        {
          "output_type": "stream",
          "name": "stderr",
          "text": [
            "Training Batches (Epoch 1): 100%|██████████| 7781/7781 [01:03<00:00, 122.76it/s, loss=4.37]\n"
          ]
        },
        {
          "output_type": "stream",
          "name": "stdout",
          "text": [
            "Client 5 Update Sum at Round 3: 2631.2267612218857\n",
            "Averaged Update Sum at Round 3: 16963.178297042847\n",
            "Round 4/4\n",
            "Epoch 1/1 for local client\n"
          ]
        },
        {
          "output_type": "stream",
          "name": "stderr",
          "text": [
            "Training Batches (Epoch 1): 100%|██████████| 11286/11286 [01:31<00:00, 123.97it/s, loss=1.86]\n"
          ]
        },
        {
          "output_type": "stream",
          "name": "stdout",
          "text": [
            "Client 1 Update Sum at Round 4: 2106.8480422496796\n",
            "Epoch 1/1 for local client\n"
          ]
        },
        {
          "output_type": "stream",
          "name": "stderr",
          "text": [
            "Training Batches (Epoch 1): 100%|██████████| 13796/13796 [01:53<00:00, 121.73it/s, loss=1.84]\n"
          ]
        },
        {
          "output_type": "stream",
          "name": "stdout",
          "text": [
            "Client 2 Update Sum at Round 4: 1329.1633851528168\n",
            "Epoch 1/1 for local client\n"
          ]
        },
        {
          "output_type": "stream",
          "name": "stderr",
          "text": [
            "Training Batches (Epoch 1): 100%|██████████| 9345/9345 [01:17<00:00, 121.17it/s, loss=1.86]\n"
          ]
        },
        {
          "output_type": "stream",
          "name": "stdout",
          "text": [
            "Client 3 Update Sum at Round 4: 1289.7158155441284\n",
            "Epoch 1/1 for local client\n"
          ]
        },
        {
          "output_type": "stream",
          "name": "stderr",
          "text": [
            "Training Batches (Epoch 1): 100%|██████████| 5792/5792 [00:48<00:00, 119.35it/s, loss=1.85]\n"
          ]
        },
        {
          "output_type": "stream",
          "name": "stdout",
          "text": [
            "Client 4 Update Sum at Round 4: 543.6021106243134\n",
            "Epoch 1/1 for local client\n"
          ]
        },
        {
          "output_type": "stream",
          "name": "stderr",
          "text": [
            "Training Batches (Epoch 1): 100%|██████████| 7781/7781 [01:04<00:00, 121.57it/s, loss=1.87]\n"
          ]
        },
        {
          "output_type": "stream",
          "name": "stdout",
          "text": [
            "Client 5 Update Sum at Round 4: 1898.6742228269577\n",
            "Averaged Update Sum at Round 4: 7113.467388153076\n"
          ]
        }
      ]
    },
    {
      "cell_type": "code",
      "source": [
        "# Calculate update magnitudes for each round\n",
        "centralized_magnitudes_original = [sum(param.norm().item() for param in round_update.values()) for round_update in centralized_updates_original]\n",
        "fedsgd_magnitudes_original = [sum(param.norm().item() for param in update.values()) for update in fedsgd_avg_updates_original]\n",
        "\n",
        "# Plot update magnitudes\n",
        "x_labels = range(1, rounds + 1)\n",
        "width = 0.25\n",
        "\n",
        "plt.bar([x - width for x in x_labels], centralized_magnitudes_original, width=width, label=\"Centralized\")\n",
        "plt.bar(x_labels, fedsgd_magnitudes_original, width=width, label=\"FedSGD\")\n",
        "plt.xlabel(\"Round\")\n",
        "plt.ylabel(\"Average Update Magnitude\")\n",
        "plt.title(\"Update Magnitude Comparison Across Methods\")\n",
        "plt.legend()\n",
        "plt.show()\n",
        "\n",
        "# Check if the gradients are approximately the same\n",
        "tolerance = 1e-2\n",
        "success = all(abs(c - f) <= tolerance for c, f in zip(centralized_magnitudes_original, fedsgd_magnitudes_original))\n",
        "\n",
        "if success:\n",
        "    print(\"Success! The gradients are approximately the same.\")\n",
        "else:\n",
        "    print(\"Keep trying\")"
      ],
      "metadata": {
        "colab": {
          "base_uri": "https://localhost:8080/",
          "height": 490
        },
        "id": "Nw2ui4fbZT-S",
        "outputId": "eeba64a0-ff10-4818-b4ed-a8e0c583fbc0"
      },
      "execution_count": 13,
      "outputs": [
        {
          "output_type": "display_data",
          "data": {
            "text/plain": [
              "<Figure size 640x480 with 1 Axes>"
            ],
            "image/png": "[encoded data removed]"
          },
          "metadata": {}
        },
        {
          "output_type": "stream",
          "name": "stdout",
          "text": [
            "Keep trying\n"
          ]
        }
      ]
    },
    {
      "cell_type": "markdown",
      "source": [
        "Assigning Weights proportional to the Data of a Client(Weighted Aggregation)\n",
        "\n",
        "\n"
      ],
      "metadata": {
        "id": "ED5EdsMeV93O"
      }
    },
    {
      "cell_type": "code",
      "source": [
        "def fedsgd_training_weights(global_model, train_loaders, num_clients, rounds, lr):\n",
        "    round_avg_updates = []\n",
        "\n",
        "    device = torch.device(\"cuda\" if torch.cuda.is_available() else \"cpu\")\n",
        "    global_model.to(device)\n",
        "    print(f\"Using device: {device}\")\n",
        "\n",
        "    # Compute data counts and proportions\n",
        "    client_data_counts = [len(train_loader.dataset) for train_loader in train_loaders]\n",
        "    total_data_count = sum(client_data_counts)\n",
        "    client_weights = [count / total_data_count for count in client_data_counts]\n",
        "\n",
        "    print(\"Client Data Counts:\", client_data_counts)\n",
        "    print(\"Client Weights:\", client_weights)\n",
        "\n",
        "    for round_num in range(rounds):\n",
        "        client_updates = []\n",
        "        print(f\"Round {round_num + 1}/{rounds}\")\n",
        "\n",
        "        for client_id in range(num_clients):\n",
        "            overall_update = local_train(global_model, train_loaders[client_id], lr)\n",
        "            client_update_device = {name: update.to(device) for name, update in overall_update.items()}\n",
        "            client_updates.append(client_update_device)\n",
        "\n",
        "            client_update_sum = sum(update.abs().sum().item() for update in client_update_device.values())\n",
        "            print(f\"Client {client_id + 1} Update Sum at Round {round_num + 1}: {client_update_sum}\")\n",
        "\n",
        "        # Aggregate client updates with weights\n",
        "        avg_update = {}\n",
        "        for name in global_model.state_dict():\n",
        "            grad_sum = torch.zeros_like(global_model.state_dict()[name], device=device)\n",
        "            for client_id in range(num_clients):\n",
        "                grad_sum += client_weights[client_id] * client_updates[client_id][name]\n",
        "            avg_update[name] = grad_sum\n",
        "\n",
        "        round_avg_updates.append(avg_update)\n",
        "\n",
        "        avg_update_sum = sum(update.abs().sum().item() for update in avg_update.values())\n",
        "        print(f\"Averaged Update Sum at Round {round_num + 1}: {avg_update_sum}\")\n",
        "\n",
        "        with torch.no_grad():\n",
        "            for name, param in global_model.named_parameters():\n",
        "                param -= avg_update[name]\n",
        "\n",
        "    return round_avg_updates\n"
      ],
      "metadata": {
        "id": "9xQQr1kEWOoM"
      },
      "execution_count": 14,
      "outputs": []
    },
    {
      "cell_type": "code",
      "source": [
        "# FedSGD with Weighted Aggregation\n",
        "global_model_fedsgd_weights = SimpleCNN()\n",
        "global_model_fedsgd_weights.load_state_dict(initial_model.state_dict())\n",
        "fedsgd_avg_updates_weights = fedsgd_training_weights(global_model_fedsgd_weights, federated_train_loaders, num_clients, rounds=rounds, lr=lr)\n"
      ],
      "metadata": {
        "colab": {
          "base_uri": "https://localhost:8080/"
        },
        "id": "7Jk46acAZXEJ",
        "outputId": "8b59f8ba-7f28-4b66-923d-186fcb15ea08"
      },
      "execution_count": 15,
      "outputs": [
        {
          "output_type": "stream",
          "name": "stdout",
          "text": [
            "Using device: cpu\n",
            "Client Data Counts: [11286, 13796, 9345, 5792, 7781]\n",
            "Client Weights: [0.235125, 0.28741666666666665, 0.1946875, 0.12066666666666667, 0.16210416666666666]\n",
            "Round 1/4\n",
            "Epoch 1/1 for local client\n"
          ]
        },
        {
          "output_type": "stream",
          "name": "stderr",
          "text": [
            "Training Batches (Epoch 1): 100%|██████████| 11286/11286 [01:30<00:00, 125.00it/s, loss=2.3]\n"
          ]
        },
        {
          "output_type": "stream",
          "name": "stdout",
          "text": [
            "Client 1 Update Sum at Round 1: 159.3787695541978\n",
            "Epoch 1/1 for local client\n"
          ]
        },
        {
          "output_type": "stream",
          "name": "stderr",
          "text": [
            "Training Batches (Epoch 1): 100%|██████████| 13796/13796 [01:51<00:00, 124.08it/s, loss=2.28]\n"
          ]
        },
        {
          "output_type": "stream",
          "name": "stdout",
          "text": [
            "Client 2 Update Sum at Round 1: 313.60194873809814\n",
            "Epoch 1/1 for local client\n"
          ]
        },
        {
          "output_type": "stream",
          "name": "stderr",
          "text": [
            "Training Batches (Epoch 1): 100%|██████████| 9345/9345 [01:15<00:00, 123.02it/s, loss=2.29]\n"
          ]
        },
        {
          "output_type": "stream",
          "name": "stdout",
          "text": [
            "Client 3 Update Sum at Round 1: 184.76244822517037\n",
            "Epoch 1/1 for local client\n"
          ]
        },
        {
          "output_type": "stream",
          "name": "stderr",
          "text": [
            "Training Batches (Epoch 1): 100%|██████████| 5792/5792 [00:47<00:00, 122.91it/s, loss=2.27]\n"
          ]
        },
        {
          "output_type": "stream",
          "name": "stdout",
          "text": [
            "Client 4 Update Sum at Round 1: 145.85181955620646\n",
            "Epoch 1/1 for local client\n"
          ]
        },
        {
          "output_type": "stream",
          "name": "stderr",
          "text": [
            "Training Batches (Epoch 1): 100%|██████████| 7781/7781 [01:02<00:00, 124.68it/s, loss=2.3]\n"
          ]
        },
        {
          "output_type": "stream",
          "name": "stdout",
          "text": [
            "Client 5 Update Sum at Round 1: 175.1164625454694\n",
            "Averaged Update Sum at Round 1: 84.01092879381031\n",
            "Round 2/4\n",
            "Epoch 1/1 for local client\n"
          ]
        },
        {
          "output_type": "stream",
          "name": "stderr",
          "text": [
            "Training Batches (Epoch 1): 100%|██████████| 11286/11286 [01:30<00:00, 124.47it/s, loss=2.21]\n"
          ]
        },
        {
          "output_type": "stream",
          "name": "stdout",
          "text": [
            "Client 1 Update Sum at Round 2: 155.9523180089891\n",
            "Epoch 1/1 for local client\n"
          ]
        },
        {
          "output_type": "stream",
          "name": "stderr",
          "text": [
            "Training Batches (Epoch 1): 100%|██████████| 13796/13796 [01:51<00:00, 123.58it/s, loss=2.19]\n"
          ]
        },
        {
          "output_type": "stream",
          "name": "stdout",
          "text": [
            "Client 2 Update Sum at Round 2: 258.0512755215168\n",
            "Epoch 1/1 for local client\n"
          ]
        },
        {
          "output_type": "stream",
          "name": "stderr",
          "text": [
            "Training Batches (Epoch 1): 100%|██████████| 9345/9345 [01:15<00:00, 123.07it/s, loss=2.2]\n"
          ]
        },
        {
          "output_type": "stream",
          "name": "stdout",
          "text": [
            "Client 3 Update Sum at Round 2: 181.0507306419313\n",
            "Epoch 1/1 for local client\n"
          ]
        },
        {
          "output_type": "stream",
          "name": "stderr",
          "text": [
            "Training Batches (Epoch 1): 100%|██████████| 5792/5792 [00:47<00:00, 122.72it/s, loss=2.18]\n"
          ]
        },
        {
          "output_type": "stream",
          "name": "stdout",
          "text": [
            "Client 4 Update Sum at Round 2: 146.3601320311427\n",
            "Epoch 1/1 for local client\n"
          ]
        },
        {
          "output_type": "stream",
          "name": "stderr",
          "text": [
            "Training Batches (Epoch 1): 100%|██████████| 7781/7781 [01:07<00:00, 115.31it/s, loss=2.21]\n"
          ]
        },
        {
          "output_type": "stream",
          "name": "stdout",
          "text": [
            "Client 5 Update Sum at Round 2: 169.5396641306579\n",
            "Averaged Update Sum at Round 2: 66.57688134908676\n",
            "Round 3/4\n",
            "Epoch 1/1 for local client\n"
          ]
        },
        {
          "output_type": "stream",
          "name": "stderr",
          "text": [
            "Training Batches (Epoch 1): 100%|██████████| 11286/11286 [01:34<00:00, 119.26it/s, loss=2.14]\n"
          ]
        },
        {
          "output_type": "stream",
          "name": "stdout",
          "text": [
            "Client 1 Update Sum at Round 3: 229.8474940955639\n",
            "Epoch 1/1 for local client\n"
          ]
        },
        {
          "output_type": "stream",
          "name": "stderr",
          "text": [
            "Training Batches (Epoch 1): 100%|██████████| 13796/13796 [02:00<00:00, 114.67it/s, loss=2.1]\n"
          ]
        },
        {
          "output_type": "stream",
          "name": "stdout",
          "text": [
            "Client 2 Update Sum at Round 3: 377.29143810272217\n",
            "Epoch 1/1 for local client\n"
          ]
        },
        {
          "output_type": "stream",
          "name": "stderr",
          "text": [
            "Training Batches (Epoch 1): 100%|██████████| 9345/9345 [01:18<00:00, 118.56it/s, loss=2.11]\n"
          ]
        },
        {
          "output_type": "stream",
          "name": "stdout",
          "text": [
            "Client 3 Update Sum at Round 3: 272.81067030876875\n",
            "Epoch 1/1 for local client\n"
          ]
        },
        {
          "output_type": "stream",
          "name": "stderr",
          "text": [
            "Training Batches (Epoch 1): 100%|██████████| 5792/5792 [00:48<00:00, 118.87it/s, loss=2.07]\n"
          ]
        },
        {
          "output_type": "stream",
          "name": "stdout",
          "text": [
            "Client 4 Update Sum at Round 3: 226.95482981204987\n",
            "Epoch 1/1 for local client\n"
          ]
        },
        {
          "output_type": "stream",
          "name": "stderr",
          "text": [
            "Training Batches (Epoch 1): 100%|██████████| 7781/7781 [01:05<00:00, 118.27it/s, loss=2.12]\n"
          ]
        },
        {
          "output_type": "stream",
          "name": "stdout",
          "text": [
            "Client 5 Update Sum at Round 3: 257.64883141219616\n",
            "Averaged Update Sum at Round 3: 87.80674229934812\n",
            "Round 4/4\n",
            "Epoch 1/1 for local client\n"
          ]
        },
        {
          "output_type": "stream",
          "name": "stderr",
          "text": [
            "Training Batches (Epoch 1): 100%|██████████| 11286/11286 [01:35<00:00, 118.49it/s, loss=2.11]\n"
          ]
        },
        {
          "output_type": "stream",
          "name": "stdout",
          "text": [
            "Client 1 Update Sum at Round 4: 382.39030645787716\n",
            "Epoch 1/1 for local client\n"
          ]
        },
        {
          "output_type": "stream",
          "name": "stderr",
          "text": [
            "Training Batches (Epoch 1): 100%|██████████| 13796/13796 [01:58<00:00, 116.84it/s, loss=2.03]\n"
          ]
        },
        {
          "output_type": "stream",
          "name": "stdout",
          "text": [
            "Client 2 Update Sum at Round 4: 600.6241924464703\n",
            "Epoch 1/1 for local client\n"
          ]
        },
        {
          "output_type": "stream",
          "name": "stderr",
          "text": [
            "Training Batches (Epoch 1): 100%|██████████| 9345/9345 [01:19<00:00, 116.86it/s, loss=2.06]\n"
          ]
        },
        {
          "output_type": "stream",
          "name": "stdout",
          "text": [
            "Client 3 Update Sum at Round 4: 455.2884258031845\n",
            "Epoch 1/1 for local client\n"
          ]
        },
        {
          "output_type": "stream",
          "name": "stderr",
          "text": [
            "Training Batches (Epoch 1): 100%|██████████| 5792/5792 [00:48<00:00, 118.53it/s, loss=1.94]\n"
          ]
        },
        {
          "output_type": "stream",
          "name": "stdout",
          "text": [
            "Client 4 Update Sum at Round 4: 375.714820638299\n",
            "Epoch 1/1 for local client\n"
          ]
        },
        {
          "output_type": "stream",
          "name": "stderr",
          "text": [
            "Training Batches (Epoch 1): 100%|██████████| 7781/7781 [01:06<00:00, 116.62it/s, loss=2.07]\n"
          ]
        },
        {
          "output_type": "stream",
          "name": "stdout",
          "text": [
            "Client 5 Update Sum at Round 4: 423.84432423114777\n",
            "Averaged Update Sum at Round 4: 143.29100538045168\n"
          ]
        }
      ]
    },
    {
      "cell_type": "code",
      "source": [
        "# Calculate update magnitudes for each round\n",
        "centralized_magnitudes_original = [sum(param.norm().item() for param in round_update.values()) for round_update in centralized_updates_original]\n",
        "fedsgd_magnitudes_weights = [sum(param.norm().item() for param in update.values()) for update in fedsgd_avg_updates_weights]\n",
        "\n",
        "# Plot update magnitudes\n",
        "x_labels = range(1, rounds + 1)\n",
        "width = 0.25\n",
        "\n",
        "plt.bar([x - width for x in x_labels], centralized_magnitudes_original, width=width, label=\"Centralized\")\n",
        "plt.bar(x_labels, fedsgd_magnitudes_weights, width=width, label=\"FedSGD\")\n",
        "plt.xlabel(\"Round\")\n",
        "plt.ylabel(\"Average Update Magnitude\")\n",
        "plt.title(\"Update Magnitude Comparison Across Methods\")\n",
        "plt.legend()\n",
        "plt.show()\n",
        "\n",
        "# Check if the gradients are approximately the same\n",
        "tolerance = 1e-2\n",
        "success = all(abs(c - f) <= tolerance for c, f in zip(centralized_magnitudes_original, fedsgd_magnitudes_weights))\n",
        "\n",
        "if success:\n",
        "    print(\"Success! The gradients are approximately the same.\")\n",
        "else:\n",
        "    print(\"Keep trying\")"
      ],
      "metadata": {
        "colab": {
          "base_uri": "https://localhost:8080/",
          "height": 490
        },
        "id": "4Ir_7ooKcNNr",
        "outputId": "9688b701-a246-43ea-d9af-412c8631bb9a"
      },
      "execution_count": 16,
      "outputs": [
        {
          "output_type": "display_data",
          "data": {
            "text/plain": [
              "<Figure size 640x480 with 1 Axes>"
            ],
            "image/png": "[encoded data removed]"
          },
          "metadata": {}
        },
        {
          "output_type": "stream",
          "name": "stdout",
          "text": [
            "Keep trying\n"
          ]
        }
      ]
    },
    {
      "cell_type": "code",
      "source": [
        "# sum([0.235125, 0.28741666666666665, 0.1946875, 0.12066666666666667, 0.16210416666666666])\n",
        "print(centralized_magnitudes_original)\n",
        "print(fedsgd_magnitudes_weights)"
      ],
      "metadata": {
        "colab": {
          "base_uri": "https://localhost:8080/"
        },
        "id": "dAIg5GAyzSGo",
        "outputId": "87efbccd-15a2-49f1-a01d-e0288238f6a3"
      },
      "execution_count": 18,
      "outputs": [
        {
          "output_type": "stream",
          "name": "stdout",
          "text": [
            "[1.682474821805954, 3.831089347600937, 152.47307932376862, 593.3741135597229]\n",
            "[0.4722092517185956, 0.4682182865217328, 0.6660248432308435, 1.1522399317473173]\n"
          ]
        }
      ]
    },
    {
      "cell_type": "markdown",
      "source": [
        "Uniform data distribution and weighted aggregation\n"
      ],
      "metadata": {
        "id": "Exsz-mf52Ilo"
      }
    },
    {
      "cell_type": "code",
      "source": [
        "# Use the modified partition_data_equal function\n",
        "federated_train_loaders, federated_test_loaders, train_centralized_loader, test_centralized_loader = partition_data_equal(\n",
        "    train_images / 255.0, train_labels, test_images / 255.0, test_labels, num_clients, batch_size\n",
        ")"
      ],
      "metadata": {
        "id": "d35qwMQn26Uh"
      },
      "execution_count": 19,
      "outputs": []
    },
    {
      "cell_type": "code",
      "source": [
        "# Centralized Training\n",
        "global_model_centralized_uniform_weighted = SimpleCNN()\n",
        "global_model_centralized_uniform_weighted.load_state_dict(initial_model.state_dict())\n",
        "centralized_updates_uniform_weighted = centralized_training_updates(global_model_centralized_uniform_weighted, train_centralized_loader, epochs=rounds, lr=lr)"
      ],
      "metadata": {
        "colab": {
          "base_uri": "https://localhost:8080/"
        },
        "id": "jasTWjYU3Kq6",
        "outputId": "74eb3089-deb1-44c6-8a94-1157f15a05be"
      },
      "execution_count": 20,
      "outputs": [
        {
          "output_type": "stream",
          "name": "stdout",
          "text": [
            "Using device: cpu\n",
            "Epoch 1/4\n"
          ]
        },
        {
          "output_type": "stream",
          "name": "stderr",
          "text": [
            "Training Batches (Epoch 1): 100%|██████████| 48000/48000 [06:49<00:00, 117.26it/s, loss=2.2]\n"
          ]
        },
        {
          "output_type": "stream",
          "name": "stdout",
          "text": [
            "Epoch 1 Update Sum: 336.1849522739649\n",
            "Epoch 2/4\n"
          ]
        },
        {
          "output_type": "stream",
          "name": "stderr",
          "text": [
            "Training Batches (Epoch 2): 100%|██████████| 48000/48000 [06:48<00:00, 117.61it/s, loss=2.32]\n"
          ]
        },
        {
          "output_type": "stream",
          "name": "stdout",
          "text": [
            "Epoch 2 Update Sum: 460.44950807094574\n",
            "Epoch 3/4\n"
          ]
        },
        {
          "output_type": "stream",
          "name": "stderr",
          "text": [
            "Training Batches (Epoch 3): 100%|██████████| 48000/48000 [06:45<00:00, 118.27it/s, loss=0.0311]\n"
          ]
        },
        {
          "output_type": "stream",
          "name": "stdout",
          "text": [
            "Epoch 3 Update Sum: 16963.123607635498\n",
            "Epoch 4/4\n"
          ]
        },
        {
          "output_type": "stream",
          "name": "stderr",
          "text": [
            "Training Batches (Epoch 4): 100%|██████████| 48000/48000 [06:51<00:00, 116.60it/s, loss=122]\n"
          ]
        },
        {
          "output_type": "stream",
          "name": "stdout",
          "text": [
            "Epoch 4 Update Sum: 7113.695724487305\n"
          ]
        }
      ]
    },
    {
      "cell_type": "code",
      "source": [
        "# FedSGD with Weighted Aggregation\n",
        "global_model_fedsgd_weights_uniform = SimpleCNN()\n",
        "global_model_fedsgd_weights_uniform.load_state_dict(initial_model.state_dict())\n",
        "fedsgd_avg_updates_weights = fedsgd_training_weights(global_model_fedsgd_weights_uniform, federated_train_loaders, num_clients, rounds=rounds, lr=lr)\n"
      ],
      "metadata": {
        "colab": {
          "base_uri": "https://localhost:8080/"
        },
        "id": "S7rjqpz_3KnZ",
        "outputId": "a3b45722-ddf4-4c47-851b-4828948f4436"
      },
      "execution_count": 21,
      "outputs": [
        {
          "output_type": "stream",
          "name": "stdout",
          "text": [
            "Using device: cpu\n",
            "Client Data Counts: [9600, 9600, 9600, 9600, 9600]\n",
            "Client Weights: [0.2, 0.2, 0.2, 0.2, 0.2]\n",
            "Round 1/4\n",
            "Epoch 1/1 for local client\n"
          ]
        },
        {
          "output_type": "stream",
          "name": "stderr",
          "text": [
            "Training Batches (Epoch 1): 100%|██████████| 9600/9600 [01:20<00:00, 119.29it/s, loss=2.27]\n"
          ]
        },
        {
          "output_type": "stream",
          "name": "stdout",
          "text": [
            "Client 1 Update Sum at Round 1: 68.31279277708381\n",
            "Epoch 1/1 for local client\n"
          ]
        },
        {
          "output_type": "stream",
          "name": "stderr",
          "text": [
            "Training Batches (Epoch 1): 100%|██████████| 9600/9600 [01:21<00:00, 118.39it/s, loss=2.32]\n"
          ]
        },
        {
          "output_type": "stream",
          "name": "stdout",
          "text": [
            "Client 2 Update Sum at Round 1: 65.995908876881\n",
            "Epoch 1/1 for local client\n"
          ]
        },
        {
          "output_type": "stream",
          "name": "stderr",
          "text": [
            "Training Batches (Epoch 1): 100%|██████████| 9600/9600 [01:21<00:00, 118.07it/s, loss=2.33]\n"
          ]
        },
        {
          "output_type": "stream",
          "name": "stdout",
          "text": [
            "Client 3 Update Sum at Round 1: 66.53967094793916\n",
            "Epoch 1/1 for local client\n"
          ]
        },
        {
          "output_type": "stream",
          "name": "stderr",
          "text": [
            "Training Batches (Epoch 1): 100%|██████████| 9600/9600 [01:27<00:00, 109.35it/s, loss=2.23]\n"
          ]
        },
        {
          "output_type": "stream",
          "name": "stdout",
          "text": [
            "Client 4 Update Sum at Round 1: 70.80306912213564\n",
            "Epoch 1/1 for local client\n"
          ]
        },
        {
          "output_type": "stream",
          "name": "stderr",
          "text": [
            "Training Batches (Epoch 1): 100%|██████████| 9600/9600 [01:26<00:00, 111.00it/s, loss=2.4]\n"
          ]
        },
        {
          "output_type": "stream",
          "name": "stdout",
          "text": [
            "Client 5 Update Sum at Round 1: 67.00418430566788\n",
            "Averaged Update Sum at Round 1: 67.2369871372357\n",
            "Round 2/4\n",
            "Epoch 1/1 for local client\n"
          ]
        },
        {
          "output_type": "stream",
          "name": "stderr",
          "text": [
            "Training Batches (Epoch 1): 100%|██████████| 9600/9600 [01:23<00:00, 114.52it/s, loss=2.24]\n"
          ]
        },
        {
          "output_type": "stream",
          "name": "stdout",
          "text": [
            "Client 1 Update Sum at Round 2: 59.274999387562275\n",
            "Epoch 1/1 for local client\n"
          ]
        },
        {
          "output_type": "stream",
          "name": "stderr",
          "text": [
            "Training Batches (Epoch 1): 100%|██████████| 9600/9600 [01:23<00:00, 114.35it/s, loss=2.31]\n"
          ]
        },
        {
          "output_type": "stream",
          "name": "stdout",
          "text": [
            "Client 2 Update Sum at Round 2: 58.9545973688364\n",
            "Epoch 1/1 for local client\n"
          ]
        },
        {
          "output_type": "stream",
          "name": "stderr",
          "text": [
            "Training Batches (Epoch 1): 100%|██████████| 9600/9600 [01:23<00:00, 114.39it/s, loss=2.26]\n"
          ]
        },
        {
          "output_type": "stream",
          "name": "stdout",
          "text": [
            "Client 3 Update Sum at Round 2: 59.032590225338936\n",
            "Epoch 1/1 for local client\n"
          ]
        },
        {
          "output_type": "stream",
          "name": "stderr",
          "text": [
            "Training Batches (Epoch 1): 100%|██████████| 9600/9600 [01:22<00:00, 116.38it/s, loss=2.24]\n"
          ]
        },
        {
          "output_type": "stream",
          "name": "stdout",
          "text": [
            "Client 4 Update Sum at Round 2: 61.01756416633725\n",
            "Epoch 1/1 for local client\n"
          ]
        },
        {
          "output_type": "stream",
          "name": "stderr",
          "text": [
            "Training Batches (Epoch 1): 100%|██████████| 9600/9600 [01:23<00:00, 114.91it/s, loss=2.25]\n"
          ]
        },
        {
          "output_type": "stream",
          "name": "stdout",
          "text": [
            "Client 5 Update Sum at Round 2: 59.471461502835155\n",
            "Averaged Update Sum at Round 2: 58.96081758476794\n",
            "Round 3/4\n",
            "Epoch 1/1 for local client\n"
          ]
        },
        {
          "output_type": "stream",
          "name": "stderr",
          "text": [
            "Training Batches (Epoch 1): 100%|██████████| 9600/9600 [01:22<00:00, 116.79it/s, loss=2.18]\n"
          ]
        },
        {
          "output_type": "stream",
          "name": "stdout",
          "text": [
            "Client 1 Update Sum at Round 3: 75.24645578861237\n",
            "Epoch 1/1 for local client\n"
          ]
        },
        {
          "output_type": "stream",
          "name": "stderr",
          "text": [
            "Training Batches (Epoch 1): 100%|██████████| 9600/9600 [01:20<00:00, 118.82it/s, loss=2.27]\n"
          ]
        },
        {
          "output_type": "stream",
          "name": "stdout",
          "text": [
            "Client 2 Update Sum at Round 3: 75.71369833499193\n",
            "Epoch 1/1 for local client\n"
          ]
        },
        {
          "output_type": "stream",
          "name": "stderr",
          "text": [
            "Training Batches (Epoch 1): 100%|██████████| 9600/9600 [01:21<00:00, 117.96it/s, loss=2.2]\n"
          ]
        },
        {
          "output_type": "stream",
          "name": "stdout",
          "text": [
            "Client 3 Update Sum at Round 3: 76.05140332505107\n",
            "Epoch 1/1 for local client\n"
          ]
        },
        {
          "output_type": "stream",
          "name": "stderr",
          "text": [
            "Training Batches (Epoch 1): 100%|██████████| 9600/9600 [01:21<00:00, 117.99it/s, loss=2.23]\n"
          ]
        },
        {
          "output_type": "stream",
          "name": "stdout",
          "text": [
            "Client 4 Update Sum at Round 3: 77.4842296205461\n",
            "Epoch 1/1 for local client\n"
          ]
        },
        {
          "output_type": "stream",
          "name": "stderr",
          "text": [
            "Training Batches (Epoch 1): 100%|██████████| 9600/9600 [01:21<00:00, 118.02it/s, loss=2.14]\n"
          ]
        },
        {
          "output_type": "stream",
          "name": "stdout",
          "text": [
            "Client 5 Update Sum at Round 3: 76.28537832573056\n",
            "Averaged Update Sum at Round 3: 75.36666199192405\n",
            "Round 4/4\n",
            "Epoch 1/1 for local client\n"
          ]
        },
        {
          "output_type": "stream",
          "name": "stderr",
          "text": [
            "Training Batches (Epoch 1): 100%|██████████| 9600/9600 [01:21<00:00, 118.29it/s, loss=2.06]\n"
          ]
        },
        {
          "output_type": "stream",
          "name": "stdout",
          "text": [
            "Client 1 Update Sum at Round 4: 112.14379418641329\n",
            "Epoch 1/1 for local client\n"
          ]
        },
        {
          "output_type": "stream",
          "name": "stderr",
          "text": [
            "Training Batches (Epoch 1): 100%|██████████| 9600/9600 [01:21<00:00, 117.85it/s, loss=2.18]\n"
          ]
        },
        {
          "output_type": "stream",
          "name": "stdout",
          "text": [
            "Client 2 Update Sum at Round 4: 114.92345014959574\n",
            "Epoch 1/1 for local client\n"
          ]
        },
        {
          "output_type": "stream",
          "name": "stderr",
          "text": [
            "Training Batches (Epoch 1): 100%|██████████| 9600/9600 [01:22<00:00, 115.68it/s, loss=2.12]\n"
          ]
        },
        {
          "output_type": "stream",
          "name": "stdout",
          "text": [
            "Client 3 Update Sum at Round 4: 115.93830855190754\n",
            "Epoch 1/1 for local client\n"
          ]
        },
        {
          "output_type": "stream",
          "name": "stderr",
          "text": [
            "Training Batches (Epoch 1): 100%|██████████| 9600/9600 [01:21<00:00, 117.84it/s, loss=2.2]\n"
          ]
        },
        {
          "output_type": "stream",
          "name": "stdout",
          "text": [
            "Client 4 Update Sum at Round 4: 115.7549758926034\n",
            "Epoch 1/1 for local client\n"
          ]
        },
        {
          "output_type": "stream",
          "name": "stderr",
          "text": [
            "Training Batches (Epoch 1): 100%|██████████| 9600/9600 [01:24<00:00, 113.05it/s, loss=1.93]\n"
          ]
        },
        {
          "output_type": "stream",
          "name": "stdout",
          "text": [
            "Client 5 Update Sum at Round 4: 116.04892559349537\n",
            "Averaged Update Sum at Round 4: 113.88937835395336\n"
          ]
        }
      ]
    },
    {
      "cell_type": "code",
      "source": [
        "# Calculate update magnitudes for each round\n",
        "centralized_magnitudes_uniform_weights = [sum(param.norm().item() for param in round_update.values()) for round_update in centralized_updates_uniform_weighted]\n",
        "fedsgd_magnitudes_uniform_weighted = [sum(param.norm().item() for param in update.values()) for update in fedsgd_avg_updates_weights]\n",
        "\n",
        "# Plot update magnitudes\n",
        "x_labels = range(1, rounds + 1)\n",
        "width = 0.25\n",
        "\n",
        "plt.bar([x - width for x in x_labels], centralized_magnitudes_uniform_weights, width=width, label=\"Centralized\")\n",
        "plt.bar(x_labels, fedsgd_magnitudes_uniform_weighted, width=width, label=\"FedSGD\")\n",
        "plt.xlabel(\"Round\")\n",
        "plt.ylabel(\"Average Update Magnitude\")\n",
        "plt.title(\"Update Magnitude Comparison Across Methods\")\n",
        "plt.legend()\n",
        "plt.show()\n",
        "\n",
        "# Check if the gradients are approximately the same\n",
        "tolerance = 1e-2\n",
        "success = all(abs(c - f) <= tolerance for c, f in zip(centralized_magnitudes_uniform_weights, fedsgd_magnitudes_uniform_weighted))\n",
        "\n",
        "if success:\n",
        "    print(\"Success! The gradients are approximately the same.\")\n",
        "else:\n",
        "    print(\"Keep trying\")"
      ],
      "metadata": {
        "colab": {
          "base_uri": "https://localhost:8080/",
          "height": 490
        },
        "id": "kXqo5n4F3Kkz",
        "outputId": "ff53560a-8293-431d-c043-39d9e11e0b97"
      },
      "execution_count": 22,
      "outputs": [
        {
          "output_type": "display_data",
          "data": {
            "text/plain": [
              "<Figure size 640x480 with 1 Axes>"
            ],
            "image/png": "[encoded data removed]"
          },
          "metadata": {}
        },
        {
          "output_type": "stream",
          "name": "stdout",
          "text": [
            "Keep trying\n"
          ]
        }
      ]
    },
    {
      "cell_type": "code",
      "source": [
        "print(centralized_magnitudes_uniform_weights)\n",
        "print(fedsgd_magnitudes_uniform_weighted)"
      ],
      "metadata": {
        "colab": {
          "base_uri": "https://localhost:8080/"
        },
        "id": "3pF0Gng13KNy",
        "outputId": "ade1aa81-9a5a-4145-b50f-47c7605d276d"
      },
      "execution_count": 24,
      "outputs": [
        {
          "output_type": "stream",
          "name": "stdout",
          "text": [
            "[1.6824751272797585, 3.831090658903122, 152.4730987548828, 593.3658180236816]\n",
            "[0.33649478713050485, 0.3738701492547989, 0.545261250808835, 0.9039998911321163]\n"
          ]
        }
      ]
    },
    {
      "cell_type": "markdown",
      "metadata": {
        "id": "c9Ov5Mc-2f8F"
      },
      "source": [
        "# Task 2: FedAvg"
      ]
    },
    {
      "cell_type": "markdown",
      "metadata": {
        "id": "EnmGa9ln2f8G"
      },
      "source": [
        "Implement the fedavg_training function to perform Federated Averaging (FedAvg) over multiple communication rounds. Each round, collect updates from clients by training locally on their data and average these updates to form a new global model.\n",
        "\n",
        "Additionally, implement the local_train function to handle client-side training. You are not restricted to using full-batch gradient descent; feel free to use mini-batch gradient descent instead. Make sure your implementation aligns with the provided code to plot the accuracies, as you should not modify that code."
      ]
    },
    {
      "cell_type": "code",
      "execution_count": null,
      "metadata": {
        "id": "npZ1DMsn2f8G"
      },
      "outputs": [],
      "source": [
        "def evaluate_model(global_model, test_loaders):\n",
        "    global_model.eval()\n",
        "    device = torch.device(\"cuda\" if torch.cuda.is_available() else \"cpu\")\n",
        "    global_model.to(device)\n",
        "\n",
        "    client_accuracies = []\n",
        "    total_correct, total_samples = 0, 0\n",
        "\n",
        "    with torch.no_grad():\n",
        "        for client_id, test_loader in enumerate(test_loaders):\n",
        "            client_correct, client_total = 0, 0\n",
        "            print(f\"\\nEvaluating Client {client_id}\")\n",
        "\n",
        "            for images, labels in test_loader:\n",
        "                images, labels = images.to(device), labels.to(device)\n",
        "                outputs = global_model(images)\n",
        "                _, predicted = torch.max(outputs, 1)\n",
        "\n",
        "                client_correct += (predicted == labels).sum().item()\n",
        "                client_total += labels.size(0)\n",
        "\n",
        "            client_accuracy = (client_correct / client_total) * 100\n",
        "            client_accuracies.append(client_accuracy)\n",
        "\n",
        "            print(f\"Client {client_id} Accuracy: {client_accuracy:.2f}%\")\n",
        "\n",
        "            total_correct += client_correct\n",
        "            total_samples += client_total\n",
        "\n",
        "    total_accuracy = (total_correct / total_samples) * 100\n",
        "    print(f\"Total Accuracy: {total_accuracy:.2f}%\")\n",
        "    return client_accuracies, total_accuracy\n",
        "\n"
      ]
    },
    {
      "cell_type": "code",
      "execution_count": null,
      "metadata": {
        "id": "MZMTC9jK2f8G"
      },
      "outputs": [],
      "source": [
        "def fedavg_training(global_model, train_loaders, num_clients, rounds, epochs, lr, test_loaders):\n",
        "    round_avg_updates = []\n",
        "    round_accuracies = []\n",
        "    # To Do\n",
        "    return round_avg_updates, round_accuracies\n",
        "\n",
        "\n",
        "\n",
        "def local_train(model, train_loader, epochs, lr):\n",
        "    overall_update = {name: torch.zeros_like(param) for name, param in model.state_dict().items()}\n",
        "    #To Do\n",
        "    return overall_update\n"
      ]
    },
    {
      "cell_type": "markdown",
      "metadata": {
        "id": "aQNlzXbN2f8G"
      },
      "source": [
        "In the following code you may change the learning rate or the batch size"
      ]
    },
    {
      "cell_type": "code",
      "execution_count": null,
      "metadata": {
        "id": "gMiV_ZN5m9hn"
      },
      "outputs": [],
      "source": [
        "# Parameters\n",
        "num_clients = 5\n",
        "batch_size = 128\n",
        "rounds = 3\n",
        "epochs = 20\n",
        "lr = 0.001\n",
        "dirichlet_alphas = [2, 0.5, 0.1]\n",
        "\n",
        "def run_fedavg(alpha):\n",
        "    train_loaders, test_loaders,_,_ = partition_data(train_images / 255, train_labels, test_images / 255, test_labels, num_clients, alpha, batch_size)\n",
        "    global_model_fedavg = SimpleCNN()\n",
        "    _, round_accuracies = fedavg_training(global_model_fedavg, train_loaders, num_clients, rounds=rounds, epochs=epochs, lr=lr, test_loaders=test_loaders)\n",
        "    return round_accuracies\n",
        "\n",
        "accuracies_per_alpha = []\n",
        "\n",
        "for alpha in dirichlet_alphas:\n",
        "    round_accuracies = run_fedavg(alpha)\n",
        "    accuracies_per_alpha.append(round_accuracies)\n"
      ]
    },
    {
      "cell_type": "code",
      "execution_count": null,
      "metadata": {
        "id": "M3ZbGPKI2f8G"
      },
      "outputs": [],
      "source": [
        "# Plotting accuracy per round for each alpha value\n",
        "plt.figure()\n",
        "for idx, alpha in enumerate(dirichlet_alphas):\n",
        "    plt.plot(range(1, rounds + 1), accuracies_per_alpha[idx], marker='o', label=f'Alpha = {alpha}')\n",
        "\n",
        "plt.xlabel('Rounds')\n",
        "plt.ylabel('Accuracy (%)')\n",
        "plt.legend()\n",
        "plt.title('FedAvg Accuracy per Round across Different Dirichlet Alphas')\n",
        "plt.show()"
      ]
    },
    {
      "cell_type": "markdown",
      "metadata": {
        "id": "XJz1KoNdVido"
      },
      "source": [
        "# Task 3: Scaffold"
      ]
    },
    {
      "cell_type": "markdown",
      "metadata": {
        "id": "zIVYHA792f8H"
      },
      "source": [
        "In this task, you will implement the SCAFFOLD algorithm, which addresses client heterogeneity through variance reduction. We will evaluate the implementation in a 0.1 Dirichlet heterogeneous setting, and accuracy plotting code is provided.\n",
        "\n",
        "The implementation of SCAFFOLD is similar to FedAvg, with only a few additional steps at both the server and client side. For reference, you may consult the SCAFFOLD paper to understand these adjustments in detail."
      ]
    },
    {
      "cell_type": "code",
      "execution_count": null,
      "metadata": {
        "id": "u9t0tpiL7APb"
      },
      "outputs": [],
      "source": [
        "def local_train_scaffold(model, train_loader, c_global, c_local, epochs, lr):\n",
        "    overall_update = {name: torch.zeros_like(param) for name, param in model.state_dict().items()}\n",
        "    new_c_local = {name: torch.zeros_like(param) for name, param in model.state_dict().items()}\n",
        "    # To Do\n",
        "    return overall_update, new_c_local\n",
        "\n",
        "def federated_scaffold(global_model, train_loaders, test_loaders, num_clients, rounds, epochs, local_lr):\n",
        "    round_accuracies = []\n",
        "    # To Do\n",
        "    return round_accuracies"
      ]
    },
    {
      "cell_type": "code",
      "execution_count": null,
      "metadata": {
        "id": "oRVOEp13Udtf"
      },
      "outputs": [],
      "source": [
        "num_clients = 5\n",
        "rounds = 3\n",
        "epochs = 20\n",
        "lr = 0.01\n",
        "mu = 0.001\n",
        "\n",
        "# Run federated SCAFFOLD with 0.1 Dirichlet and plot accuracy per round\n",
        "def run_scaffold():\n",
        "    # Partition data with a Dirichlet alpha of 0.1\n",
        "    train_loaders, test_loaders,_,_ = partition_data(train_images / 255, train_labels, test_images / 255, test_labels, num_clients, 0.1, batch_size)\n",
        "    global_model_scaffold = SimpleCNN()\n",
        "    round_accuracies = federated_scaffold(global_model_scaffold, train_loaders, test_loaders, num_clients, rounds, epochs, local_lr=lr)\n",
        "    return round_accuracies\n",
        "\n",
        "# Run SCAFFOLD and get accuracy per round\n",
        "scaffold_accuracies = run_scaffold()"
      ]
    },
    {
      "cell_type": "code",
      "execution_count": null,
      "metadata": {
        "id": "VhrSDfWl2f8H"
      },
      "outputs": [],
      "source": [
        "plt.figure()\n",
        "plt.plot(range(1, rounds + 1), scaffold_accuracies, marker='o', label='SCAFFOLD Alpha = 0.1')\n",
        "plt.xlabel('Rounds')\n",
        "plt.ylabel('Accuracy (%)')\n",
        "plt.title('SCAFFOLD Accuracy per Round (Dirichlet Alpha = 0.1)')\n",
        "plt.legend()\n",
        "plt.show()"
      ]
    },
    {
      "cell_type": "markdown",
      "metadata": {
        "id": "7S8XKIFm2f8I"
      },
      "source": [
        "# Task 4: Gradient Harmonization"
      ]
    },
    {
      "cell_type": "markdown",
      "metadata": {
        "id": "Av5pekbt2f8I"
      },
      "source": [
        "In this task, you will examine how heterogeneity influences the gradient updates sent by each client. Specifically, you will analyze and quantify gradient conflicts at varying levels of heterogeneity.\n",
        "\n",
        "First, implement the FedAvg code (You can reuse your task 2 implementation) and integrate the provided conflict-counting function at the end of each round to measure the number of conflicts in different heterogeneous settings.\n",
        "\n",
        "Next, implement the Gradient Harmonization algorithm to harmonize conflicting gradients.\n",
        "\n",
        "Finally, evaluate the performance of the harmonized gradients under a 0.1 Dirichlet scenario, and compare the number of conflicts before and after harmonization."
      ]
    },
    {
      "cell_type": "code",
      "execution_count": null,
      "metadata": {
        "id": "c8RD86qm2f8I"
      },
      "outputs": [],
      "source": [
        "import builtins\n",
        "sum = builtins.sum\n",
        "\n",
        "def cosine_similarity(vec1, vec2):\n",
        "    return torch.dot(vec1, vec2) / (torch.norm(vec1) * torch.norm(vec2))\n",
        "\n",
        "def gradient_conflict_counter(client_updates):\n",
        "    total_conflicts = 0  # Variable to store the total conflicts across all layers\n",
        "    num_clients = len(client_updates)\n",
        "\n",
        "    # Iterate over each layer (key) in the client updates\n",
        "    for layer_name in client_updates[0].keys():\n",
        "        # Collect vectors for this layer across all clients\n",
        "        layer_vectors = [client_update[layer_name].view(-1).cpu() for client_update in client_updates]\n",
        "\n",
        "        # Check pairwise cosine similarity for this layer and count conflicts\n",
        "        for i in range(num_clients):\n",
        "            for j in range(i + 1, num_clients):\n",
        "                sim = cosine_similarity(layer_vectors[i], layer_vectors[j])\n",
        "                if sim < 0:\n",
        "                    total_conflicts += 1\n",
        "\n",
        "    print(f\"Total gradient conflicts detected: {total_conflicts}\")\n",
        "    return total_conflicts\n",
        "\n",
        "def Federated_gradient_conflict(global_model, train_loaders, num_clients, rounds, epochs, lr, test_loaders):\n",
        "    round_avg_updates = []\n",
        "    round_accuracies = []\n",
        "    conflict_counts = []\n",
        "    # To Do\n",
        "    return round_avg_updates, round_accuracies, conflict_counts"
      ]
    },
    {
      "cell_type": "code",
      "execution_count": null,
      "metadata": {
        "id": "-r0g82gE2f8I"
      },
      "outputs": [],
      "source": [
        "# Parameters\n",
        "num_clients = 5\n",
        "batch_size = 128\n",
        "rounds = 3\n",
        "epochs = 20\n",
        "lr = 0.001\n",
        "dirichlet_alphas = [2, 0.5, 0.1]\n",
        "\n",
        "def run_fedconflict(alpha):\n",
        "    train_loaders, test_loaders,_,_ = partition_data(train_images / 255, train_labels, test_images / 255, test_labels, num_clients, alpha, batch_size)\n",
        "    global_model_fedavg = SimpleCNN()\n",
        "    _, round_accuracies,conflict_counts = Federated_gradient_conflict(global_model_fedavg, train_loaders, num_clients, rounds=rounds, epochs=epochs, lr=lr, test_loaders=test_loaders)\n",
        "    return round_accuracies, conflict_counts\n",
        "\n",
        "accuracies_per_alpha = []\n",
        "conflicts_per_alpha = []\n",
        "\n",
        "for alpha in dirichlet_alphas:\n",
        "    round_accuracies, conflict_counts = run_fedconflict(alpha)\n",
        "    accuracies_per_alpha.append(round_accuracies)\n",
        "    conflicts_per_alpha.append(conflict_counts)\n",
        "\n"
      ]
    },
    {
      "cell_type": "code",
      "execution_count": null,
      "metadata": {
        "id": "u3Qxi7hx2f8I"
      },
      "outputs": [],
      "source": [
        "plt.figure(figsize=(10, 6))\n",
        "\n",
        "for i, alpha in enumerate(dirichlet_alphas):\n",
        "    plt.plot(range(1, rounds + 1), conflicts_per_alpha[i], marker='o', label=f'Alpha = {alpha}')\n",
        "\n",
        "plt.xlabel(\"Rounds\")\n",
        "plt.ylabel(\"Number of Gradient Conflicts\")\n",
        "plt.title(\"Gradient Conflicts Across Rounds for Different Heterogeneity Levels (Dirichlet Alphas)\")\n",
        "plt.legend(title=\"Heterogeneity Level (Alpha)\")\n",
        "plt.grid(axis=\"y\", linestyle=\"--\", alpha=0.7)\n",
        "\n",
        "plt.show()"
      ]
    },
    {
      "cell_type": "code",
      "execution_count": null,
      "metadata": {
        "id": "1Hejx1UbUtuH"
      },
      "outputs": [],
      "source": [
        "def gradient_harmonization(client_updates):\n",
        "    # To Do\n",
        "    return client_updates\n",
        "\n",
        "def Federated_gradient_harmonization(global_model, train_loaders, num_clients, rounds, epochs, lr, test_loaders):\n",
        "    round_accuracies = []  # List to store total accuracy after each round\n",
        "    pre_harmonization_conflicts = []  # List to store conflicts before harmonization\n",
        "    post_harmonization_conflicts = []  # List to store conflicts after harmonization\n",
        "    # To Do\n",
        "    return round_accuracies, pre_harmonization_conflicts, post_harmonization_conflicts\n"
      ]
    },
    {
      "cell_type": "code",
      "execution_count": null,
      "metadata": {
        "id": "P7klZEjK2f8J"
      },
      "outputs": [],
      "source": [
        "# Parameters\n",
        "num_clients = 5\n",
        "batch_size = 128\n",
        "rounds = 3\n",
        "epochs = 20\n",
        "lr = 0.001\n",
        "alpha = 0.1\n",
        "\n",
        "# Run federated gradient harmonization\n",
        "train_loaders, test_loaders, _, _ = partition_data(\n",
        "    train_images / 255, train_labels, test_images / 255, test_labels, num_clients, alpha, batch_size\n",
        ")\n",
        "global_model_fedavg = SimpleCNN()\n",
        "round_accuracies, pre_harmonization_conflicts, post_harmonization_conflicts = Federated_gradient_harmonization(\n",
        "    global_model_fedavg, train_loaders, num_clients, rounds=rounds, epochs=epochs, lr=lr, test_loaders=test_loaders\n",
        ")"
      ]
    },
    {
      "cell_type": "code",
      "execution_count": null,
      "metadata": {
        "id": "xUfh0AER2f8J"
      },
      "outputs": [],
      "source": [
        "plt.figure(figsize=(12, 5))\n",
        "\n",
        "plt.subplot(1, 2, 1)\n",
        "plt.plot(range(1, rounds + 1), pre_harmonization_conflicts, marker='o', linestyle='-', label='Conflicts Before Harmonization')\n",
        "plt.plot(range(1, rounds + 1), post_harmonization_conflicts, marker='x', linestyle='--', label='Conflicts After Harmonization')\n",
        "plt.xlabel(\"Rounds\")\n",
        "plt.ylabel(\"Number of Gradient Conflicts\")\n",
        "plt.title(\"Gradient Conflicts Across Rounds (Alpha = 0.1)\")\n",
        "plt.legend()\n",
        "plt.grid(axis=\"y\", linestyle=\"--\", alpha=0.7)\n",
        "\n",
        "plt.subplot(1, 2, 2)\n",
        "plt.plot(range(1, rounds + 1), round_accuracies, marker='s', color='b')\n",
        "plt.xlabel(\"Rounds\")\n",
        "plt.ylabel(\"Accuracy (%)\")\n",
        "plt.title(\"Model Accuracy Across Rounds (Alpha = 0.1)\")\n",
        "plt.grid(axis=\"y\", linestyle=\"--\", alpha=0.7)\n",
        "\n",
        "plt.tight_layout()\n",
        "plt.show()\n"
      ]
    },
    {
      "cell_type": "markdown",
      "metadata": {
        "id": "hieBQy0t2f8J"
      },
      "source": [
        "# Task 5: FedSam"
      ]
    },
    {
      "cell_type": "markdown",
      "metadata": {
        "id": "B-sAwxbP2f8J"
      },
      "source": [
        "In this task, you will explore Sharpness-Aware Minimization (SAM) in a federated learning setting by implementing the FedSAM algorithm. As with previous tasks, evaluate its performance in a 0.1 Dirichlet heterogeneous scenario."
      ]
    },
    {
      "cell_type": "code",
      "execution_count": null,
      "metadata": {
        "id": "9rw0ONZx2f8J"
      },
      "outputs": [],
      "source": [
        "def apply_sam_perturbation(local_model, criterion, x_train, y_train, rho):\n",
        "    # To Do\n",
        "    pass\n",
        "\n",
        "def local_train_sam(model, train_loader, epochs, lr, rho=0.0001):\n",
        "    overall_update = {name: torch.zeros_like(param) for name, param in model.state_dict().items()}\n",
        "    # To do\n",
        "    return overall_update\n",
        "\n",
        "def federated_training_sam(global_model, train_loaders, test_loaders, num_clients, rounds, epochs, local_lr):\n",
        "    round_accuracies = []\n",
        "    # To Do\n",
        "    return round_accuracies"
      ]
    },
    {
      "cell_type": "code",
      "execution_count": null,
      "metadata": {
        "id": "ye2ILQq-2f8J"
      },
      "outputs": [],
      "source": [
        "# Run the FedSAM experiment\n",
        "num_clients = 5\n",
        "rounds = 3\n",
        "epochs = 20\n",
        "lr = 0.001\n",
        "\n",
        "def run_fedsam():\n",
        "    # Partition data with a Dirichlet alpha of 0.1\n",
        "    train_loaders, test_loaders, _, _ = partition_data(train_images / 255, train_labels, test_images / 255, test_labels, num_clients, 0.1, batch_size)\n",
        "    global_model_sam = SimpleCNN()\n",
        "    round_accuracies = federated_training_sam(global_model_sam, train_loaders, test_loaders, num_clients, rounds, epochs, local_lr=lr)\n",
        "    return round_accuracies\n",
        "\n",
        "# Run FedSAM and get accuracy per round\n",
        "sam_accuracies = run_fedsam()\n",
        "\n"
      ]
    },
    {
      "cell_type": "code",
      "execution_count": null,
      "metadata": {
        "id": "jiBT3y8i2f8N"
      },
      "outputs": [],
      "source": [
        "# Plotting accuracy per round for FedSAM with Dirichlet alpha 0.1\n",
        "plt.figure()\n",
        "plt.plot(range(1, rounds + 1), sam_accuracies, marker='o', label='FedSAM Alpha = 0.1')\n",
        "plt.xlabel('Rounds')\n",
        "plt.ylabel('Accuracy (%)')\n",
        "plt.title('FedSAM Accuracy per Round (Dirichlet Alpha = 0.1)')\n",
        "plt.legend()\n",
        "plt.show()"
      ]
    }
  ],
  "metadata": {
    "colab": {
      "provenance": []
    },
    "kernelspec": {
      "display_name": "Python 3",
      "name": "python3"
    },
    "language_info": {
      "codemirror_mode": {
        "name": "ipython",
        "version": 3
      },
      "file_extension": ".py",
      "mimetype": "text/x-python",
      "name": "python",
      "nbconvert_exporter": "python",
      "pygments_lexer": "ipython3",
      "version": "3.11.0"
    }
  },
  "nbformat": 4,
  "nbformat_minor": 0
}